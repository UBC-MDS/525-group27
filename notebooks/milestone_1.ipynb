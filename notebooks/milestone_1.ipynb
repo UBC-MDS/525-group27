{
 "cells": [
  {
   "cell_type": "markdown",
   "metadata": {},
   "source": [
    "## RainFall Data Analysis"
   ]
  },
  {
   "cell_type": "code",
   "execution_count": 2,
   "metadata": {},
   "outputs": [],
   "source": [
    "import re\n",
    "import os\n",
    "import glob\n",
    "import zipfile\n",
    "import requests\n",
    "from urllib.request import urlretrieve\n",
    "import json\n",
    "import pandas as pd"
   ]
  },
  {
   "cell_type": "markdown",
   "metadata": {},
   "source": [
    "### Download Partitioned Data"
   ]
  },
  {
   "cell_type": "code",
   "execution_count": 2,
   "metadata": {},
   "outputs": [],
   "source": [
    "# Necessary metadata\n",
    "article_id = 14096681  # this is the unique identifier of the article on figshare\n",
    "url = f\"https://api.figshare.com/v2/articles/{article_id}\"\n",
    "headers = {\"Content-Type\": \"application/json\"}\n",
    "output_directory = \"../data/rainfall/partitions/\"\n",
    "\n",
    "\n",
    "# Retrieve the article metadata\n",
    "response = requests.request(\"GET\", url, headers=headers)\n",
    "data = json.loads(response.text)  # this contains all the articles data, feel free to check it out\n",
    "files = data[\"files\"]             # this is just the data about the files, which is what we want\n",
    "\n",
    "\n",
    "# Zip to Folder Unzip\n",
    "files_to_dl = [\"data.zip\"]  # feel free to add other files here\n",
    "for file in files:\n",
    "    if file[\"name\"] in files_to_dl:\n",
    "        os.makedirs(output_directory, exist_ok=True)\n",
    "        urlretrieve(file[\"download_url\"], output_directory + file[\"name\"])\n",
    "        \n",
    "with zipfile.ZipFile(os.path.join(output_directory, \"data.zip\"), 'r') as f:\n",
    "    f.extractall(output_directory)"
   ]
  },
  {
   "cell_type": "markdown",
   "metadata": {},
   "source": [
    "### Combine Data"
   ]
  },
  {
   "cell_type": "code",
   "execution_count": 3,
   "metadata": {},
   "outputs": [],
   "source": [
    "# Read the data\n",
    "files_to_combine = glob.glob(output_directory + \"*.csv\")\n",
    "files_to_combine.remove(output_directory + \"observed_daily_rainfall_SYD.csv\")\n",
    "df = pd.concat(\n",
    "    (pd.read_csv(file, index_col=0)\n",
    "                .assign(model=re.findall(r'[^\\/&\\\\]+(?=_daily_rainfall_NSW\\.)', file)[0])\n",
    "                for file in files_to_combine)\n",
    "    )\n",
    "\n",
    "# Save the combined data\n",
    "data_path = \"../data/rainfall/\"\n",
    "os.makedirs(data_path + \"combined/\", exist_ok=True)\n",
    "df.to_csv(data_path + \"combined/rainfall_data.csv\")"
   ]
  },
  {
   "cell_type": "markdown",
   "metadata": {},
   "source": [
    "### Loading Combined Data and Simple EDA"
   ]
  },
  {
   "cell_type": "code",
   "execution_count": 5,
   "metadata": {},
   "outputs": [],
   "source": [
    "# Read the data\n",
    "data = pd.read_csv(\"../data/rainfall/combined/rainfall_data.csv\")"
   ]
  },
  {
   "cell_type": "code",
   "execution_count": 39,
   "metadata": {},
   "outputs": [
    {
     "data": {
      "text/plain": [
       "11.448609766"
      ]
     },
     "execution_count": 39,
     "metadata": {},
     "output_type": "execute_result"
    }
   ],
   "source": [
    "# Testing different loading methods for EDA timing\n",
    "import sys\n",
    "# size of 'data' in gigabytes\n",
    "sys.getsizeof(data)/(1e9)"
   ]
  },
  {
   "cell_type": "code",
   "execution_count": 7,
   "metadata": {},
   "outputs": [
    {
     "data": {
      "text/plain": [
       "time              object\n",
       "lat_min          float64\n",
       "lat_max          float64\n",
       "lon_min          float64\n",
       "lon_max          float64\n",
       "rain (mm/day)    float64\n",
       "model             object\n",
       "dtype: object"
      ]
     },
     "execution_count": 7,
     "metadata": {},
     "output_type": "execute_result"
    }
   ],
   "source": [
    "data.dtypes"
   ]
  },
  {
   "cell_type": "markdown",
   "metadata": {},
   "source": [
    "#### No data manipulation"
   ]
  },
  {
   "cell_type": "code",
   "execution_count": 50,
   "metadata": {},
   "outputs": [
    {
     "name": "stdout",
     "output_type": "stream",
     "text": [
      "3min ± 3.58 s per loop (mean ± std. dev. of 2 runs, 3 loops each)\n"
     ]
    }
   ],
   "source": [
    "%%timeit -n 3 -r 2 # run statement 3 times for 2 repetitions\n",
    "data.value_counts()\n",
    "\n",
    "data.describe()\n",
    "\n",
    "data.nunique()"
   ]
  },
  {
   "cell_type": "markdown",
   "metadata": {},
   "source": [
    "#### Modifying Data Types"
   ]
  },
  {
   "cell_type": "code",
   "execution_count": 52,
   "metadata": {},
   "outputs": [
    {
     "data": {
      "text/plain": [
       "5.963029062"
      ]
     },
     "execution_count": 52,
     "metadata": {},
     "output_type": "execute_result"
    }
   ],
   "source": [
    "# Changing data types\n",
    "## Changed 'time' from `object` to `datetime.datetime`\n",
    "data['time'] = pd.to_datetime(data['time'])\n",
    "data[['lat_min', 'lat_max', 'lon_min', 'lon_max', 'rain (mm/day)']] = data[['lat_min', 'lat_max', 'lon_min', 'lon_max', 'rain (mm/day)']].astype('float32')\n",
    "sys.getsizeof(data)/(1e9) #size of modified data in GB"
   ]
  },
  {
   "cell_type": "code",
   "execution_count": 53,
   "metadata": {},
   "outputs": [
    {
     "name": "stdout",
     "output_type": "stream",
     "text": [
      "2min 31s ± 315 ms per loop (mean ± std. dev. of 2 runs, 3 loops each)\n"
     ]
    }
   ],
   "source": [
    "%%timeit -n 3 -r 2 # run statement 3 times for 2 repetitions\n",
    "data.value_counts()\n",
    "\n",
    "data.describe()\n",
    "\n",
    "data.nunique()"
   ]
  },
  {
   "cell_type": "markdown",
   "metadata": {},
   "source": [
    "#### Loading Select Columns"
   ]
  },
  {
   "cell_type": "code",
   "execution_count": 9,
   "metadata": {},
   "outputs": [],
   "source": [
    "# CLEAR MODIFIED DATAFRAME AND RELOAD\n",
    "del data\n",
    "\n",
    "data = pd.read_csv(\"../data/rainfall/combined/rainfall_data.csv\")"
   ]
  },
  {
   "cell_type": "code",
   "execution_count": 5,
   "metadata": {},
   "outputs": [
    {
     "data": {
      "text/plain": [
       "9.44963879"
      ]
     },
     "execution_count": 5,
     "metadata": {},
     "output_type": "execute_result"
    }
   ],
   "source": [
    "# Using only necessary columns (time, rainfall, model), location columns can be loaded in later if needed\n",
    "\n",
    "data = data[['time', 'rain (mm/day)', 'model']]\n",
    "sys.getsizeof(data)/(1e9) # Very interesting to see here, the location columns account for only ~10% of the total object size"
   ]
  },
  {
   "cell_type": "code",
   "execution_count": 56,
   "metadata": {},
   "outputs": [
    {
     "name": "stdout",
     "output_type": "stream",
     "text": [
      "1min 53s ± 274 ms per loop (mean ± std. dev. of 2 runs, 3 loops each)\n"
     ]
    }
   ],
   "source": [
    "%%timeit -n 3 -r 2 # run statement 3 times for 2 repetitions\n",
    "data.value_counts()\n",
    "\n",
    "data.describe()\n",
    "\n",
    "data.nunique()"
   ]
  },
  {
   "cell_type": "markdown",
   "metadata": {},
   "source": [
    "# Perform EDA on Python"
   ]
  },
  {
   "cell_type": "code",
   "execution_count": 38,
   "metadata": {},
   "outputs": [
    {
     "data": {
      "text/html": [
       "<div>\n",
       "<style scoped>\n",
       "    .dataframe tbody tr th:only-of-type {\n",
       "        vertical-align: middle;\n",
       "    }\n",
       "\n",
       "    .dataframe tbody tr th {\n",
       "        vertical-align: top;\n",
       "    }\n",
       "\n",
       "    .dataframe thead th {\n",
       "        text-align: right;\n",
       "    }\n",
       "</style>\n",
       "<table border=\"1\" class=\"dataframe\">\n",
       "  <thead>\n",
       "    <tr style=\"text-align: right;\">\n",
       "      <th></th>\n",
       "      <th>year</th>\n",
       "      <th>model</th>\n",
       "      <th>lat_min</th>\n",
       "      <th>lat_max</th>\n",
       "      <th>lon_min</th>\n",
       "      <th>lon_max</th>\n",
       "      <th>rain (mm/day)</th>\n",
       "    </tr>\n",
       "  </thead>\n",
       "  <tbody>\n",
       "    <tr>\n",
       "      <th>0</th>\n",
       "      <td>1889</td>\n",
       "      <td>ACCESS-CM2</td>\n",
       "      <td>-33.125</td>\n",
       "      <td>-31.875</td>\n",
       "      <td>146.2500</td>\n",
       "      <td>148.1250</td>\n",
       "      <td>1.398767</td>\n",
       "    </tr>\n",
       "    <tr>\n",
       "      <th>1</th>\n",
       "      <td>1889</td>\n",
       "      <td>ACCESS-ESM1-5</td>\n",
       "      <td>-33.125</td>\n",
       "      <td>-31.875</td>\n",
       "      <td>147.1875</td>\n",
       "      <td>149.0625</td>\n",
       "      <td>1.856297</td>\n",
       "    </tr>\n",
       "    <tr>\n",
       "      <th>27</th>\n",
       "      <td>1890</td>\n",
       "      <td>ACCESS-CM2</td>\n",
       "      <td>-33.125</td>\n",
       "      <td>-31.875</td>\n",
       "      <td>146.2500</td>\n",
       "      <td>148.1250</td>\n",
       "      <td>1.488712</td>\n",
       "    </tr>\n",
       "    <tr>\n",
       "      <th>28</th>\n",
       "      <td>1890</td>\n",
       "      <td>ACCESS-ESM1-5</td>\n",
       "      <td>-33.125</td>\n",
       "      <td>-31.875</td>\n",
       "      <td>147.1875</td>\n",
       "      <td>149.0625</td>\n",
       "      <td>1.667741</td>\n",
       "    </tr>\n",
       "    <tr>\n",
       "      <th>54</th>\n",
       "      <td>1891</td>\n",
       "      <td>ACCESS-CM2</td>\n",
       "      <td>-33.125</td>\n",
       "      <td>-31.875</td>\n",
       "      <td>146.2500</td>\n",
       "      <td>148.1250</td>\n",
       "      <td>2.198307</td>\n",
       "    </tr>\n",
       "  </tbody>\n",
       "</table>\n",
       "</div>"
      ],
      "text/plain": [
       "    year          model  lat_min  lat_max   lon_min   lon_max  rain (mm/day)\n",
       "0   1889     ACCESS-CM2  -33.125  -31.875  146.2500  148.1250       1.398767\n",
       "1   1889  ACCESS-ESM1-5  -33.125  -31.875  147.1875  149.0625       1.856297\n",
       "27  1890     ACCESS-CM2  -33.125  -31.875  146.2500  148.1250       1.488712\n",
       "28  1890  ACCESS-ESM1-5  -33.125  -31.875  147.1875  149.0625       1.667741\n",
       "54  1891     ACCESS-CM2  -33.125  -31.875  146.2500  148.1250       2.198307"
      ]
     },
     "execution_count": 38,
     "metadata": {},
     "output_type": "execute_result"
    }
   ],
   "source": [
    "# convert time to datetime year only\n",
    "data['time'] = pd.to_datetime(data['time'])\n",
    "data['year'] = data['time'].dt.year\n",
    "# group data by year and model\n",
    "data_grouped = data.groupby(['year', 'model']).mean()\n",
    "data_grouped.reset_index(inplace=True)\n",
    "\n",
    "model_list = ['ACCESS-CM2', 'ACCESS-ESM1-5'] # list of models to plot\n",
    "data_filtered = data_grouped[data_grouped['model'].isin(model_list)]\n",
    "data_filtered.head()\n"
   ]
  },
  {
   "cell_type": "code",
   "execution_count": 52,
   "metadata": {},
   "outputs": [
    {
     "data": {
      "text/html": [
       "\n",
       "<div id=\"altair-viz-7a7c1f98ec864e70a7f93a7cd9f5d679\"></div>\n",
       "<script type=\"text/javascript\">\n",
       "  var VEGA_DEBUG = (typeof VEGA_DEBUG == \"undefined\") ? {} : VEGA_DEBUG;\n",
       "  (function(spec, embedOpt){\n",
       "    let outputDiv = document.currentScript.previousElementSibling;\n",
       "    if (outputDiv.id !== \"altair-viz-7a7c1f98ec864e70a7f93a7cd9f5d679\") {\n",
       "      outputDiv = document.getElementById(\"altair-viz-7a7c1f98ec864e70a7f93a7cd9f5d679\");\n",
       "    }\n",
       "    const paths = {\n",
       "      \"vega\": \"https://cdn.jsdelivr.net/npm//vega@5?noext\",\n",
       "      \"vega-lib\": \"https://cdn.jsdelivr.net/npm//vega-lib?noext\",\n",
       "      \"vega-lite\": \"https://cdn.jsdelivr.net/npm//vega-lite@4.17.0?noext\",\n",
       "      \"vega-embed\": \"https://cdn.jsdelivr.net/npm//vega-embed@6?noext\",\n",
       "    };\n",
       "\n",
       "    function maybeLoadScript(lib, version) {\n",
       "      var key = `${lib.replace(\"-\", \"\")}_version`;\n",
       "      return (VEGA_DEBUG[key] == version) ?\n",
       "        Promise.resolve(paths[lib]) :\n",
       "        new Promise(function(resolve, reject) {\n",
       "          var s = document.createElement('script');\n",
       "          document.getElementsByTagName(\"head\")[0].appendChild(s);\n",
       "          s.async = true;\n",
       "          s.onload = () => {\n",
       "            VEGA_DEBUG[key] = version;\n",
       "            return resolve(paths[lib]);\n",
       "          };\n",
       "          s.onerror = () => reject(`Error loading script: ${paths[lib]}`);\n",
       "          s.src = paths[lib];\n",
       "        });\n",
       "    }\n",
       "\n",
       "    function showError(err) {\n",
       "      outputDiv.innerHTML = `<div class=\"error\" style=\"color:red;\">${err}</div>`;\n",
       "      throw err;\n",
       "    }\n",
       "\n",
       "    function displayChart(vegaEmbed) {\n",
       "      vegaEmbed(outputDiv, spec, embedOpt)\n",
       "        .catch(err => showError(`Javascript Error: ${err.message}<br>This usually means there's a typo in your chart specification. See the javascript console for the full traceback.`));\n",
       "    }\n",
       "\n",
       "    if(typeof define === \"function\" && define.amd) {\n",
       "      requirejs.config({paths});\n",
       "      require([\"vega-embed\"], displayChart, err => showError(`Error loading script: ${err.message}`));\n",
       "    } else {\n",
       "      maybeLoadScript(\"vega\", \"5\")\n",
       "        .then(() => maybeLoadScript(\"vega-lite\", \"4.17.0\"))\n",
       "        .then(() => maybeLoadScript(\"vega-embed\", \"6\"))\n",
       "        .catch(showError)\n",
       "        .then(() => displayChart(vegaEmbed));\n",
       "    }\n",
       "  })({\"config\": {\"view\": {\"continuousWidth\": 400, \"continuousHeight\": 300}}, \"data\": {\"name\": \"data-7f7e83755c6ba0b57b13beff53424881\"}, \"facet\": {\"row\": {\"field\": \"model\", \"type\": \"nominal\"}}, \"spec\": {\"mark\": \"line\", \"encoding\": {\"color\": {\"field\": \"model\", \"type\": \"nominal\"}, \"x\": {\"field\": \"year\", \"type\": \"quantitative\"}, \"y\": {\"field\": \"rain (mm/day)\", \"type\": \"quantitative\"}}, \"height\": 200, \"width\": 400}, \"$schema\": \"https://vega.github.io/schema/vega-lite/v4.17.0.json\", \"datasets\": {\"data-7f7e83755c6ba0b57b13beff53424881\": [{\"year\": 1889, \"model\": \"ACCESS-CM2\", \"lat_min\": -33.125, \"lat_max\": -31.875, \"lon_min\": 146.25, \"lon_max\": 148.125, \"rain (mm/day)\": 1.3987667793440381}, {\"year\": 1889, \"model\": \"ACCESS-ESM1-5\", \"lat_min\": -33.125, \"lat_max\": -31.875, \"lon_min\": 147.1875, \"lon_max\": 149.0625, \"rain (mm/day)\": 1.8562966530823362}, {\"year\": 1890, \"model\": \"ACCESS-CM2\", \"lat_min\": -33.125, \"lat_max\": -31.875, \"lon_min\": 146.25, \"lon_max\": 148.125, \"rain (mm/day)\": 1.4887121987274758}, {\"year\": 1890, \"model\": \"ACCESS-ESM1-5\", \"lat_min\": -33.125, \"lat_max\": -31.875, \"lon_min\": 147.1875, \"lon_max\": 149.0625, \"rain (mm/day)\": 1.6677412874156825}, {\"year\": 1891, \"model\": \"ACCESS-CM2\", \"lat_min\": -33.125, \"lat_max\": -31.875, \"lon_min\": 146.25, \"lon_max\": 148.125, \"rain (mm/day)\": 2.1983074797900826}, {\"year\": 1891, \"model\": \"ACCESS-ESM1-5\", \"lat_min\": -33.125, \"lat_max\": -31.875, \"lon_min\": 147.1875, \"lon_max\": 149.0625, \"rain (mm/day)\": 3.6733439224025406}, {\"year\": 1892, \"model\": \"ACCESS-CM2\", \"lat_min\": -33.125, \"lat_max\": -31.875, \"lon_min\": 146.25, \"lon_max\": 148.125, \"rain (mm/day)\": 2.04420855152362}, {\"year\": 1892, \"model\": \"ACCESS-ESM1-5\", \"lat_min\": -33.125, \"lat_max\": -31.875, \"lon_min\": 147.1875, \"lon_max\": 149.0625, \"rain (mm/day)\": 3.016160393239006}, {\"year\": 1893, \"model\": \"ACCESS-CM2\", \"lat_min\": -33.125, \"lat_max\": -31.875, \"lon_min\": 146.25, \"lon_max\": 148.125, \"rain (mm/day)\": 1.8663414373478184}, {\"year\": 1893, \"model\": \"ACCESS-ESM1-5\", \"lat_min\": -33.125, \"lat_max\": -31.875, \"lon_min\": 147.1875, \"lon_max\": 149.0625, \"rain (mm/day)\": 2.805883870942715}, {\"year\": 1894, \"model\": \"ACCESS-CM2\", \"lat_min\": -33.125, \"lat_max\": -31.875, \"lon_min\": 146.25, \"lon_max\": 148.125, \"rain (mm/day)\": 1.891219951276042}, {\"year\": 1894, \"model\": \"ACCESS-ESM1-5\", \"lat_min\": -33.125, \"lat_max\": -31.875, \"lon_min\": 147.1875, \"lon_max\": 149.0625, \"rain (mm/day)\": 2.8942775353069137}, {\"year\": 1895, \"model\": \"ACCESS-CM2\", \"lat_min\": -33.125, \"lat_max\": -31.875, \"lon_min\": 146.25, \"lon_max\": 148.125, \"rain (mm/day)\": 1.9650261616087386}, {\"year\": 1895, \"model\": \"ACCESS-ESM1-5\", \"lat_min\": -33.125, \"lat_max\": -31.875, \"lon_min\": 147.1875, \"lon_max\": 149.0625, \"rain (mm/day)\": 2.2296632000996692}, {\"year\": 1896, \"model\": \"ACCESS-CM2\", \"lat_min\": -33.125, \"lat_max\": -31.875, \"lon_min\": 146.25, \"lon_max\": 148.125, \"rain (mm/day)\": 1.6422481371297708}, {\"year\": 1896, \"model\": \"ACCESS-ESM1-5\", \"lat_min\": -33.125, \"lat_max\": -31.875, \"lon_min\": 147.1875, \"lon_max\": 149.0625, \"rain (mm/day)\": 2.141050430002754}, {\"year\": 1897, \"model\": \"ACCESS-CM2\", \"lat_min\": -33.125, \"lat_max\": -31.875, \"lon_min\": 146.25, \"lon_max\": 148.125, \"rain (mm/day)\": 1.2156258188177977}, {\"year\": 1897, \"model\": \"ACCESS-ESM1-5\", \"lat_min\": -33.125, \"lat_max\": -31.875, \"lon_min\": 147.1875, \"lon_max\": 149.0625, \"rain (mm/day)\": 2.106610230598834}, {\"year\": 1898, \"model\": \"ACCESS-CM2\", \"lat_min\": -33.125, \"lat_max\": -31.875, \"lon_min\": 146.25, \"lon_max\": 148.125, \"rain (mm/day)\": 1.6725031348969728}, {\"year\": 1898, \"model\": \"ACCESS-ESM1-5\", \"lat_min\": -33.125, \"lat_max\": -31.875, \"lon_min\": 147.1875, \"lon_max\": 149.0625, \"rain (mm/day)\": 1.6521625671139737}, {\"year\": 1899, \"model\": \"ACCESS-CM2\", \"lat_min\": -33.125, \"lat_max\": -31.875, \"lon_min\": 146.25, \"lon_max\": 148.125, \"rain (mm/day)\": 1.3102593470445205}, {\"year\": 1899, \"model\": \"ACCESS-ESM1-5\", \"lat_min\": -33.125, \"lat_max\": -31.875, \"lon_min\": 147.1875, \"lon_max\": 149.0625, \"rain (mm/day)\": 1.3390526914944443}, {\"year\": 1900, \"model\": \"ACCESS-CM2\", \"lat_min\": -33.125, \"lat_max\": -31.875, \"lon_min\": 146.25, \"lon_max\": 148.125, \"rain (mm/day)\": 1.437567505155619}, {\"year\": 1900, \"model\": \"ACCESS-ESM1-5\", \"lat_min\": -33.125, \"lat_max\": -31.875, \"lon_min\": 147.1875, \"lon_max\": 149.0625, \"rain (mm/day)\": 2.169244602782395}, {\"year\": 1901, \"model\": \"ACCESS-CM2\", \"lat_min\": -33.125, \"lat_max\": -31.875, \"lon_min\": 146.25, \"lon_max\": 148.125, \"rain (mm/day)\": 1.547389597541914}, {\"year\": 1901, \"model\": \"ACCESS-ESM1-5\", \"lat_min\": -33.125, \"lat_max\": -31.875, \"lon_min\": 147.1875, \"lon_max\": 149.0625, \"rain (mm/day)\": 2.43497784291815}, {\"year\": 1902, \"model\": \"ACCESS-CM2\", \"lat_min\": -33.125, \"lat_max\": -31.875, \"lon_min\": 146.25, \"lon_max\": 148.125, \"rain (mm/day)\": 1.1604028444735206}, {\"year\": 1902, \"model\": \"ACCESS-ESM1-5\", \"lat_min\": -33.125, \"lat_max\": -31.875, \"lon_min\": 147.1875, \"lon_max\": 149.0625, \"rain (mm/day)\": 3.100330653765324}, {\"year\": 1903, \"model\": \"ACCESS-CM2\", \"lat_min\": -33.125, \"lat_max\": -31.875, \"lon_min\": 146.25, \"lon_max\": 148.125, \"rain (mm/day)\": 1.649152712870979}, {\"year\": 1903, \"model\": \"ACCESS-ESM1-5\", \"lat_min\": -33.125, \"lat_max\": -31.875, \"lon_min\": 147.1875, \"lon_max\": 149.0625, \"rain (mm/day)\": 2.626111510985118}, {\"year\": 1904, \"model\": \"ACCESS-CM2\", \"lat_min\": -33.125, \"lat_max\": -31.875, \"lon_min\": 146.25, \"lon_max\": 148.125, \"rain (mm/day)\": 1.7793852330252176}, {\"year\": 1904, \"model\": \"ACCESS-ESM1-5\", \"lat_min\": -33.125, \"lat_max\": -31.875, \"lon_min\": 147.1875, \"lon_max\": 149.0625, \"rain (mm/day)\": 2.3311659616588423}, {\"year\": 1905, \"model\": \"ACCESS-CM2\", \"lat_min\": -33.125, \"lat_max\": -31.875, \"lon_min\": 146.25, \"lon_max\": 148.125, \"rain (mm/day)\": 1.9379616707029512}, {\"year\": 1905, \"model\": \"ACCESS-ESM1-5\", \"lat_min\": -33.125, \"lat_max\": -31.875, \"lon_min\": 147.1875, \"lon_max\": 149.0625, \"rain (mm/day)\": 1.9142123883848505}, {\"year\": 1906, \"model\": \"ACCESS-CM2\", \"lat_min\": -33.125, \"lat_max\": -31.875, \"lon_min\": 146.25, \"lon_max\": 148.125, \"rain (mm/day)\": 2.029731649728126}, {\"year\": 1906, \"model\": \"ACCESS-ESM1-5\", \"lat_min\": -33.125, \"lat_max\": -31.875, \"lon_min\": 147.1875, \"lon_max\": 149.0625, \"rain (mm/day)\": 2.0580813576328136}, {\"year\": 1907, \"model\": \"ACCESS-CM2\", \"lat_min\": -33.125, \"lat_max\": -31.875, \"lon_min\": 146.25, \"lon_max\": 148.125, \"rain (mm/day)\": 1.7117444740853456}, {\"year\": 1907, \"model\": \"ACCESS-ESM1-5\", \"lat_min\": -33.125, \"lat_max\": -31.875, \"lon_min\": 147.1875, \"lon_max\": 149.0625, \"rain (mm/day)\": 1.758947757756055}, {\"year\": 1908, \"model\": \"ACCESS-CM2\", \"lat_min\": -33.125, \"lat_max\": -31.875, \"lon_min\": 146.25, \"lon_max\": 148.125, \"rain (mm/day)\": 1.515216873779379}, {\"year\": 1908, \"model\": \"ACCESS-ESM1-5\", \"lat_min\": -33.125, \"lat_max\": -31.875, \"lon_min\": 147.1875, \"lon_max\": 149.0625, \"rain (mm/day)\": 2.2634049807327514}, {\"year\": 1909, \"model\": \"ACCESS-CM2\", \"lat_min\": -33.125, \"lat_max\": -31.875, \"lon_min\": 146.25, \"lon_max\": 148.125, \"rain (mm/day)\": 2.308678586437347}, {\"year\": 1909, \"model\": \"ACCESS-ESM1-5\", \"lat_min\": -33.125, \"lat_max\": -31.875, \"lon_min\": 147.1875, \"lon_max\": 149.0625, \"rain (mm/day)\": 2.7035594153903966}, {\"year\": 1910, \"model\": \"ACCESS-CM2\", \"lat_min\": -33.125, \"lat_max\": -31.875, \"lon_min\": 146.25, \"lon_max\": 148.125, \"rain (mm/day)\": 1.7292030986251201}, {\"year\": 1910, \"model\": \"ACCESS-ESM1-5\", \"lat_min\": -33.125, \"lat_max\": -31.875, \"lon_min\": 147.1875, \"lon_max\": 149.0625, \"rain (mm/day)\": 2.179990886025875}, {\"year\": 1911, \"model\": \"ACCESS-CM2\", \"lat_min\": -33.125, \"lat_max\": -31.875, \"lon_min\": 146.25, \"lon_max\": 148.125, \"rain (mm/day)\": 1.122620686268645}, {\"year\": 1911, \"model\": \"ACCESS-ESM1-5\", \"lat_min\": -33.125, \"lat_max\": -31.875, \"lon_min\": 147.1875, \"lon_max\": 149.0625, \"rain (mm/day)\": 1.8274834542792724}, {\"year\": 1912, \"model\": \"ACCESS-CM2\", \"lat_min\": -33.125, \"lat_max\": -31.875, \"lon_min\": 146.25, \"lon_max\": 148.125, \"rain (mm/day)\": 1.4030611655336405}, {\"year\": 1912, \"model\": \"ACCESS-ESM1-5\", \"lat_min\": -33.125, \"lat_max\": -31.875, \"lon_min\": 147.1875, \"lon_max\": 149.0625, \"rain (mm/day)\": 2.2889331426151536}, {\"year\": 1913, \"model\": \"ACCESS-CM2\", \"lat_min\": -33.125, \"lat_max\": -31.875, \"lon_min\": 146.25, \"lon_max\": 148.125, \"rain (mm/day)\": 0.9854972751645379}, {\"year\": 1913, \"model\": \"ACCESS-ESM1-5\", \"lat_min\": -33.125, \"lat_max\": -31.875, \"lon_min\": 147.1875, \"lon_max\": 149.0625, \"rain (mm/day)\": 1.7115625993422456}, {\"year\": 1914, \"model\": \"ACCESS-CM2\", \"lat_min\": -33.125, \"lat_max\": -31.875, \"lon_min\": 146.25, \"lon_max\": 148.125, \"rain (mm/day)\": 2.116019215269177}, {\"year\": 1914, \"model\": \"ACCESS-ESM1-5\", \"lat_min\": -33.125, \"lat_max\": -31.875, \"lon_min\": 147.1875, \"lon_max\": 149.0625, \"rain (mm/day)\": 1.7084501820882045}, {\"year\": 1915, \"model\": \"ACCESS-CM2\", \"lat_min\": -33.125, \"lat_max\": -31.875, \"lon_min\": 146.25, \"lon_max\": 148.125, \"rain (mm/day)\": 1.5162387273355087}, {\"year\": 1915, \"model\": \"ACCESS-ESM1-5\", \"lat_min\": -33.125, \"lat_max\": -31.875, \"lon_min\": 147.1875, \"lon_max\": 149.0625, \"rain (mm/day)\": 1.8668721908921118}, {\"year\": 1916, \"model\": \"ACCESS-CM2\", \"lat_min\": -33.125, \"lat_max\": -31.875, \"lon_min\": 146.25, \"lon_max\": 148.125, \"rain (mm/day)\": 1.8020480153190537}, {\"year\": 1916, \"model\": \"ACCESS-ESM1-5\", \"lat_min\": -33.125, \"lat_max\": -31.875, \"lon_min\": 147.1875, \"lon_max\": 149.0625, \"rain (mm/day)\": 2.1779243882004233}, {\"year\": 1917, \"model\": \"ACCESS-CM2\", \"lat_min\": -33.125, \"lat_max\": -31.875, \"lon_min\": 146.25, \"lon_max\": 148.125, \"rain (mm/day)\": 2.16135244238833}, {\"year\": 1917, \"model\": \"ACCESS-ESM1-5\", \"lat_min\": -33.125, \"lat_max\": -31.875, \"lon_min\": 147.1875, \"lon_max\": 149.0625, \"rain (mm/day)\": 2.2270950553952744}, {\"year\": 1918, \"model\": \"ACCESS-CM2\", \"lat_min\": -33.125, \"lat_max\": -31.875, \"lon_min\": 146.25, \"lon_max\": 148.125, \"rain (mm/day)\": 1.125307865316617}, {\"year\": 1918, \"model\": \"ACCESS-ESM1-5\", \"lat_min\": -33.125, \"lat_max\": -31.875, \"lon_min\": 147.1875, \"lon_max\": 149.0625, \"rain (mm/day)\": 1.8794865816149002}, {\"year\": 1919, \"model\": \"ACCESS-CM2\", \"lat_min\": -33.125, \"lat_max\": -31.875, \"lon_min\": 146.25, \"lon_max\": 148.125, \"rain (mm/day)\": 1.658464494515483}, {\"year\": 1919, \"model\": \"ACCESS-ESM1-5\", \"lat_min\": -33.125, \"lat_max\": -31.875, \"lon_min\": 147.1875, \"lon_max\": 149.0625, \"rain (mm/day)\": 1.8921420961401185}, {\"year\": 1920, \"model\": \"ACCESS-CM2\", \"lat_min\": -33.125, \"lat_max\": -31.875, \"lon_min\": 146.25, \"lon_max\": 148.125, \"rain (mm/day)\": 2.14503756894062}, {\"year\": 1920, \"model\": \"ACCESS-ESM1-5\", \"lat_min\": -33.125, \"lat_max\": -31.875, \"lon_min\": 147.1875, \"lon_max\": 149.0625, \"rain (mm/day)\": 1.7706211922810318}, {\"year\": 1921, \"model\": \"ACCESS-CM2\", \"lat_min\": -33.125, \"lat_max\": -31.875, \"lon_min\": 146.25, \"lon_max\": 148.125, \"rain (mm/day)\": 1.6303335496998619}, {\"year\": 1921, \"model\": \"ACCESS-ESM1-5\", \"lat_min\": -33.125, \"lat_max\": -31.875, \"lon_min\": 147.1875, \"lon_max\": 149.0625, \"rain (mm/day)\": 2.0442059016404306}, {\"year\": 1922, \"model\": \"ACCESS-CM2\", \"lat_min\": -33.125, \"lat_max\": -31.875, \"lon_min\": 146.25, \"lon_max\": 148.125, \"rain (mm/day)\": 1.9118893802177837}, {\"year\": 1922, \"model\": \"ACCESS-ESM1-5\", \"lat_min\": -33.125, \"lat_max\": -31.875, \"lon_min\": 147.1875, \"lon_max\": 149.0625, \"rain (mm/day)\": 2.5145908431935875}, {\"year\": 1923, \"model\": \"ACCESS-CM2\", \"lat_min\": -33.125, \"lat_max\": -31.875, \"lon_min\": 146.25, \"lon_max\": 148.125, \"rain (mm/day)\": 1.7900562896972143}, {\"year\": 1923, \"model\": \"ACCESS-ESM1-5\", \"lat_min\": -33.125, \"lat_max\": -31.875, \"lon_min\": 147.1875, \"lon_max\": 149.0625, \"rain (mm/day)\": 2.1952488490857536}, {\"year\": 1924, \"model\": \"ACCESS-CM2\", \"lat_min\": -33.125, \"lat_max\": -31.875, \"lon_min\": 146.25, \"lon_max\": 148.125, \"rain (mm/day)\": 1.6341996318731133}, {\"year\": 1924, \"model\": \"ACCESS-ESM1-5\", \"lat_min\": -33.125, \"lat_max\": -31.875, \"lon_min\": 147.1875, \"lon_max\": 149.0625, \"rain (mm/day)\": 2.0847418888622524}, {\"year\": 1925, \"model\": \"ACCESS-CM2\", \"lat_min\": -33.125, \"lat_max\": -31.875, \"lon_min\": 146.25, \"lon_max\": 148.125, \"rain (mm/day)\": 1.9550321944509201}, {\"year\": 1925, \"model\": \"ACCESS-ESM1-5\", \"lat_min\": -33.125, \"lat_max\": -31.875, \"lon_min\": 147.1875, \"lon_max\": 149.0625, \"rain (mm/day)\": 2.0475361724068097}, {\"year\": 1926, \"model\": \"ACCESS-CM2\", \"lat_min\": -33.125, \"lat_max\": -31.875, \"lon_min\": 146.25, \"lon_max\": 148.125, \"rain (mm/day)\": 1.1748443568262716}, {\"year\": 1926, \"model\": \"ACCESS-ESM1-5\", \"lat_min\": -33.125, \"lat_max\": -31.875, \"lon_min\": 147.1875, \"lon_max\": 149.0625, \"rain (mm/day)\": 2.0755215623756462}, {\"year\": 1927, \"model\": \"ACCESS-CM2\", \"lat_min\": -33.125, \"lat_max\": -31.875, \"lon_min\": 146.25, \"lon_max\": 148.125, \"rain (mm/day)\": 1.9257178962264376}, {\"year\": 1927, \"model\": \"ACCESS-ESM1-5\", \"lat_min\": -33.125, \"lat_max\": -31.875, \"lon_min\": 147.1875, \"lon_max\": 149.0625, \"rain (mm/day)\": 3.107072909689264}, {\"year\": 1928, \"model\": \"ACCESS-CM2\", \"lat_min\": -33.125, \"lat_max\": -31.875, \"lon_min\": 146.25, \"lon_max\": 148.125, \"rain (mm/day)\": 1.9929583386511835}, {\"year\": 1928, \"model\": \"ACCESS-ESM1-5\", \"lat_min\": -33.125, \"lat_max\": -31.875, \"lon_min\": 147.1875, \"lon_max\": 149.0625, \"rain (mm/day)\": 2.075348024233208}, {\"year\": 1929, \"model\": \"ACCESS-CM2\", \"lat_min\": -33.125, \"lat_max\": -31.875, \"lon_min\": 146.25, \"lon_max\": 148.125, \"rain (mm/day)\": 1.9986743554579411}, {\"year\": 1929, \"model\": \"ACCESS-ESM1-5\", \"lat_min\": -33.125, \"lat_max\": -31.875, \"lon_min\": 147.1875, \"lon_max\": 149.0625, \"rain (mm/day)\": 2.7033535292271336}, {\"year\": 1930, \"model\": \"ACCESS-CM2\", \"lat_min\": -33.125, \"lat_max\": -31.875, \"lon_min\": 146.25, \"lon_max\": 148.125, \"rain (mm/day)\": 1.923030927976087}, {\"year\": 1930, \"model\": \"ACCESS-ESM1-5\", \"lat_min\": -33.125, \"lat_max\": -31.875, \"lon_min\": 147.1875, \"lon_max\": 149.0625, \"rain (mm/day)\": 3.399058928235916}, {\"year\": 1931, \"model\": \"ACCESS-CM2\", \"lat_min\": -33.125, \"lat_max\": -31.875, \"lon_min\": 146.25, \"lon_max\": 148.125, \"rain (mm/day)\": 2.599071949857478}, {\"year\": 1931, \"model\": \"ACCESS-ESM1-5\", \"lat_min\": -33.125, \"lat_max\": -31.875, \"lon_min\": 147.1875, \"lon_max\": 149.0625, \"rain (mm/day)\": 1.326417986382676}, {\"year\": 1932, \"model\": \"ACCESS-CM2\", \"lat_min\": -33.125, \"lat_max\": -31.875, \"lon_min\": 146.25, \"lon_max\": 148.125, \"rain (mm/day)\": 1.5829971129114555}, {\"year\": 1932, \"model\": \"ACCESS-ESM1-5\", \"lat_min\": -33.125, \"lat_max\": -31.875, \"lon_min\": 147.1875, \"lon_max\": 149.0625, \"rain (mm/day)\": 1.9829310823332305}, {\"year\": 1933, \"model\": \"ACCESS-CM2\", \"lat_min\": -33.125, \"lat_max\": -31.875, \"lon_min\": 146.25, \"lon_max\": 148.125, \"rain (mm/day)\": 1.3055988771510985}, {\"year\": 1933, \"model\": \"ACCESS-ESM1-5\", \"lat_min\": -33.125, \"lat_max\": -31.875, \"lon_min\": 147.1875, \"lon_max\": 149.0625, \"rain (mm/day)\": 3.0308210779483615}, {\"year\": 1934, \"model\": \"ACCESS-CM2\", \"lat_min\": -33.125, \"lat_max\": -31.875, \"lon_min\": 146.25, \"lon_max\": 148.125, \"rain (mm/day)\": 1.1355695290183505}, {\"year\": 1934, \"model\": \"ACCESS-ESM1-5\", \"lat_min\": -33.125, \"lat_max\": -31.875, \"lon_min\": 147.1875, \"lon_max\": 149.0625, \"rain (mm/day)\": 2.8484252134614616}, {\"year\": 1935, \"model\": \"ACCESS-CM2\", \"lat_min\": -33.125, \"lat_max\": -31.875, \"lon_min\": 146.25, \"lon_max\": 148.125, \"rain (mm/day)\": 1.5839595678942382}, {\"year\": 1935, \"model\": \"ACCESS-ESM1-5\", \"lat_min\": -33.125, \"lat_max\": -31.875, \"lon_min\": 147.1875, \"lon_max\": 149.0625, \"rain (mm/day)\": 2.3479154135533697}, {\"year\": 1936, \"model\": \"ACCESS-CM2\", \"lat_min\": -33.125, \"lat_max\": -31.875, \"lon_min\": 146.25, \"lon_max\": 148.125, \"rain (mm/day)\": 2.085212365746363}, {\"year\": 1936, \"model\": \"ACCESS-ESM1-5\", \"lat_min\": -33.125, \"lat_max\": -31.875, \"lon_min\": 147.1875, \"lon_max\": 149.0625, \"rain (mm/day)\": 3.450626492530716}, {\"year\": 1937, \"model\": \"ACCESS-CM2\", \"lat_min\": -33.125, \"lat_max\": -31.875, \"lon_min\": 146.25, \"lon_max\": 148.125, \"rain (mm/day)\": 1.3679698996918805}, {\"year\": 1937, \"model\": \"ACCESS-ESM1-5\", \"lat_min\": -33.125, \"lat_max\": -31.875, \"lon_min\": 147.1875, \"lon_max\": 149.0625, \"rain (mm/day)\": 1.4867996823184522}, {\"year\": 1938, \"model\": \"ACCESS-CM2\", \"lat_min\": -33.125, \"lat_max\": -31.875, \"lon_min\": 146.25, \"lon_max\": 148.125, \"rain (mm/day)\": 2.1875561236155074}, {\"year\": 1938, \"model\": \"ACCESS-ESM1-5\", \"lat_min\": -33.125, \"lat_max\": -31.875, \"lon_min\": 147.1875, \"lon_max\": 149.0625, \"rain (mm/day)\": 2.3787680015109403}, {\"year\": 1939, \"model\": \"ACCESS-CM2\", \"lat_min\": -33.125, \"lat_max\": -31.875, \"lon_min\": 146.25, \"lon_max\": 148.125, \"rain (mm/day)\": 1.8356124574163046}, {\"year\": 1939, \"model\": \"ACCESS-ESM1-5\", \"lat_min\": -33.125, \"lat_max\": -31.875, \"lon_min\": 147.1875, \"lon_max\": 149.0625, \"rain (mm/day)\": 1.9422621610909863}, {\"year\": 1940, \"model\": \"ACCESS-CM2\", \"lat_min\": -33.125, \"lat_max\": -31.875, \"lon_min\": 146.25, \"lon_max\": 148.125, \"rain (mm/day)\": 1.5544898667729934}, {\"year\": 1940, \"model\": \"ACCESS-ESM1-5\", \"lat_min\": -33.125, \"lat_max\": -31.875, \"lon_min\": 147.1875, \"lon_max\": 149.0625, \"rain (mm/day)\": 2.8140462287215886}, {\"year\": 1941, \"model\": \"ACCESS-CM2\", \"lat_min\": -33.125, \"lat_max\": -31.875, \"lon_min\": 146.25, \"lon_max\": 148.125, \"rain (mm/day)\": 1.4596783692647646}, {\"year\": 1941, \"model\": \"ACCESS-ESM1-5\", \"lat_min\": -33.125, \"lat_max\": -31.875, \"lon_min\": 147.1875, \"lon_max\": 149.0625, \"rain (mm/day)\": 2.373150291572569}, {\"year\": 1942, \"model\": \"ACCESS-CM2\", \"lat_min\": -33.125, \"lat_max\": -31.875, \"lon_min\": 146.25, \"lon_max\": 148.125, \"rain (mm/day)\": 1.597374582754929}, {\"year\": 1942, \"model\": \"ACCESS-ESM1-5\", \"lat_min\": -33.125, \"lat_max\": -31.875, \"lon_min\": 147.1875, \"lon_max\": 149.0625, \"rain (mm/day)\": 1.8240660267834414}, {\"year\": 1943, \"model\": \"ACCESS-CM2\", \"lat_min\": -33.125, \"lat_max\": -31.875, \"lon_min\": 146.25, \"lon_max\": 148.125, \"rain (mm/day)\": 1.6353732882707215}, {\"year\": 1943, \"model\": \"ACCESS-ESM1-5\", \"lat_min\": -33.125, \"lat_max\": -31.875, \"lon_min\": 147.1875, \"lon_max\": 149.0625, \"rain (mm/day)\": 2.8318145262263967}, {\"year\": 1944, \"model\": \"ACCESS-CM2\", \"lat_min\": -33.125, \"lat_max\": -31.875, \"lon_min\": 146.25, \"lon_max\": 148.125, \"rain (mm/day)\": 1.5295561198233838}, {\"year\": 1944, \"model\": \"ACCESS-ESM1-5\", \"lat_min\": -33.125, \"lat_max\": -31.875, \"lon_min\": 147.1875, \"lon_max\": 149.0625, \"rain (mm/day)\": 1.8925813376337957}, {\"year\": 1945, \"model\": \"ACCESS-CM2\", \"lat_min\": -33.125, \"lat_max\": -31.875, \"lon_min\": 146.25, \"lon_max\": 148.125, \"rain (mm/day)\": 1.0187878357574482}, {\"year\": 1945, \"model\": \"ACCESS-ESM1-5\", \"lat_min\": -33.125, \"lat_max\": -31.875, \"lon_min\": 147.1875, \"lon_max\": 149.0625, \"rain (mm/day)\": 2.1422718001436274}, {\"year\": 1946, \"model\": \"ACCESS-CM2\", \"lat_min\": -33.125, \"lat_max\": -31.875, \"lon_min\": 146.25, \"lon_max\": 148.125, \"rain (mm/day)\": 1.3788076637161761}, {\"year\": 1946, \"model\": \"ACCESS-ESM1-5\", \"lat_min\": -33.125, \"lat_max\": -31.875, \"lon_min\": 147.1875, \"lon_max\": 149.0625, \"rain (mm/day)\": 2.4510158343605526}, {\"year\": 1947, \"model\": \"ACCESS-CM2\", \"lat_min\": -33.125, \"lat_max\": -31.875, \"lon_min\": 146.25, \"lon_max\": 148.125, \"rain (mm/day)\": 2.5502942672809317}, {\"year\": 1947, \"model\": \"ACCESS-ESM1-5\", \"lat_min\": -33.125, \"lat_max\": -31.875, \"lon_min\": 147.1875, \"lon_max\": 149.0625, \"rain (mm/day)\": 3.292468594454407}, {\"year\": 1948, \"model\": \"ACCESS-CM2\", \"lat_min\": -33.125, \"lat_max\": -31.875, \"lon_min\": 146.25, \"lon_max\": 148.125, \"rain (mm/day)\": 1.409230202893081}, {\"year\": 1948, \"model\": \"ACCESS-ESM1-5\", \"lat_min\": -33.125, \"lat_max\": -31.875, \"lon_min\": 147.1875, \"lon_max\": 149.0625, \"rain (mm/day)\": 1.7595917556635632}, {\"year\": 1949, \"model\": \"ACCESS-CM2\", \"lat_min\": -33.125, \"lat_max\": -31.875, \"lon_min\": 146.25, \"lon_max\": 148.125, \"rain (mm/day)\": 1.899772542088154}, {\"year\": 1949, \"model\": \"ACCESS-ESM1-5\", \"lat_min\": -33.125, \"lat_max\": -31.875, \"lon_min\": 147.1875, \"lon_max\": 149.0625, \"rain (mm/day)\": 1.8442280422298376}, {\"year\": 1950, \"model\": \"ACCESS-CM2\", \"lat_min\": -33.125, \"lat_max\": -31.875, \"lon_min\": 146.25, \"lon_max\": 148.125, \"rain (mm/day)\": 1.6237001409838079}, {\"year\": 1950, \"model\": \"ACCESS-ESM1-5\", \"lat_min\": -33.125, \"lat_max\": -31.875, \"lon_min\": 147.1875, \"lon_max\": 149.0625, \"rain (mm/day)\": 2.8203080748162956}, {\"year\": 1951, \"model\": \"ACCESS-CM2\", \"lat_min\": -33.125, \"lat_max\": -31.875, \"lon_min\": 146.25, \"lon_max\": 148.125, \"rain (mm/day)\": 1.3589221911577625}, {\"year\": 1951, \"model\": \"ACCESS-ESM1-5\", \"lat_min\": -33.125, \"lat_max\": -31.875, \"lon_min\": 147.1875, \"lon_max\": 149.0625, \"rain (mm/day)\": 2.765038073968746}, {\"year\": 1952, \"model\": \"ACCESS-CM2\", \"lat_min\": -33.125, \"lat_max\": -31.875, \"lon_min\": 146.25, \"lon_max\": 148.125, \"rain (mm/day)\": 1.5919719834921764}, {\"year\": 1952, \"model\": \"ACCESS-ESM1-5\", \"lat_min\": -33.125, \"lat_max\": -31.875, \"lon_min\": 147.1875, \"lon_max\": 149.0625, \"rain (mm/day)\": 1.296924486814456}, {\"year\": 1953, \"model\": \"ACCESS-CM2\", \"lat_min\": -33.125, \"lat_max\": -31.875, \"lon_min\": 146.25, \"lon_max\": 148.125, \"rain (mm/day)\": 1.6423970039084868}, {\"year\": 1953, \"model\": \"ACCESS-ESM1-5\", \"lat_min\": -33.125, \"lat_max\": -31.875, \"lon_min\": 147.1875, \"lon_max\": 149.0625, \"rain (mm/day)\": 2.3995058393672517}, {\"year\": 1954, \"model\": \"ACCESS-CM2\", \"lat_min\": -33.125, \"lat_max\": -31.875, \"lon_min\": 146.25, \"lon_max\": 148.125, \"rain (mm/day)\": 2.0738502706983546}, {\"year\": 1954, \"model\": \"ACCESS-ESM1-5\", \"lat_min\": -33.125, \"lat_max\": -31.875, \"lon_min\": 147.1875, \"lon_max\": 149.0625, \"rain (mm/day)\": 1.5459991579198564}, {\"year\": 1955, \"model\": \"ACCESS-CM2\", \"lat_min\": -33.125, \"lat_max\": -31.875, \"lon_min\": 146.25, \"lon_max\": 148.125, \"rain (mm/day)\": 1.2224153090052199}, {\"year\": 1955, \"model\": \"ACCESS-ESM1-5\", \"lat_min\": -33.125, \"lat_max\": -31.875, \"lon_min\": 147.1875, \"lon_max\": 149.0625, \"rain (mm/day)\": 2.3567576669837362}, {\"year\": 1956, \"model\": \"ACCESS-CM2\", \"lat_min\": -33.125, \"lat_max\": -31.875, \"lon_min\": 146.25, \"lon_max\": 148.125, \"rain (mm/day)\": 1.8858571126634034}, {\"year\": 1956, \"model\": \"ACCESS-ESM1-5\", \"lat_min\": -33.125, \"lat_max\": -31.875, \"lon_min\": 147.1875, \"lon_max\": 149.0625, \"rain (mm/day)\": 2.7935697115620806}, {\"year\": 1957, \"model\": \"ACCESS-CM2\", \"lat_min\": -33.125, \"lat_max\": -31.875, \"lon_min\": 146.25, \"lon_max\": 148.125, \"rain (mm/day)\": 1.7881446536133283}, {\"year\": 1957, \"model\": \"ACCESS-ESM1-5\", \"lat_min\": -33.125, \"lat_max\": -31.875, \"lon_min\": 147.1875, \"lon_max\": 149.0625, \"rain (mm/day)\": 1.940568076438165}, {\"year\": 1958, \"model\": \"ACCESS-CM2\", \"lat_min\": -33.125, \"lat_max\": -31.875, \"lon_min\": 146.25, \"lon_max\": 148.125, \"rain (mm/day)\": 1.734934998736834}, {\"year\": 1958, \"model\": \"ACCESS-ESM1-5\", \"lat_min\": -33.125, \"lat_max\": -31.875, \"lon_min\": 147.1875, \"lon_max\": 149.0625, \"rain (mm/day)\": 2.3609801770291443}, {\"year\": 1959, \"model\": \"ACCESS-CM2\", \"lat_min\": -33.125, \"lat_max\": -31.875, \"lon_min\": 146.25, \"lon_max\": 148.125, \"rain (mm/day)\": 1.5320931412001477}, {\"year\": 1959, \"model\": \"ACCESS-ESM1-5\", \"lat_min\": -33.125, \"lat_max\": -31.875, \"lon_min\": 147.1875, \"lon_max\": 149.0625, \"rain (mm/day)\": 2.4999301552336606}, {\"year\": 1960, \"model\": \"ACCESS-CM2\", \"lat_min\": -33.125, \"lat_max\": -31.875, \"lon_min\": 146.25, \"lon_max\": 148.125, \"rain (mm/day)\": 1.4534268125250607}, {\"year\": 1960, \"model\": \"ACCESS-ESM1-5\", \"lat_min\": -33.125, \"lat_max\": -31.875, \"lon_min\": 147.1875, \"lon_max\": 149.0625, \"rain (mm/day)\": 3.2823048368666314}, {\"year\": 1961, \"model\": \"ACCESS-CM2\", \"lat_min\": -33.125, \"lat_max\": -31.875, \"lon_min\": 146.25, \"lon_max\": 148.125, \"rain (mm/day)\": 1.4337621401642633}, {\"year\": 1961, \"model\": \"ACCESS-ESM1-5\", \"lat_min\": -33.125, \"lat_max\": -31.875, \"lon_min\": 147.1875, \"lon_max\": 149.0625, \"rain (mm/day)\": 3.079328293677737}, {\"year\": 1962, \"model\": \"ACCESS-CM2\", \"lat_min\": -33.125, \"lat_max\": -31.875, \"lon_min\": 146.25, \"lon_max\": 148.125, \"rain (mm/day)\": 2.033609735202062}, {\"year\": 1962, \"model\": \"ACCESS-ESM1-5\", \"lat_min\": -33.125, \"lat_max\": -31.875, \"lon_min\": 147.1875, \"lon_max\": 149.0625, \"rain (mm/day)\": 1.5358998139667508}, {\"year\": 1963, \"model\": \"ACCESS-CM2\", \"lat_min\": -33.125, \"lat_max\": -31.875, \"lon_min\": 146.25, \"lon_max\": 148.125, \"rain (mm/day)\": 1.6279148084695574}, {\"year\": 1963, \"model\": \"ACCESS-ESM1-5\", \"lat_min\": -33.125, \"lat_max\": -31.875, \"lon_min\": 147.1875, \"lon_max\": 149.0625, \"rain (mm/day)\": 1.8860539727019814}, {\"year\": 1964, \"model\": \"ACCESS-CM2\", \"lat_min\": -33.125, \"lat_max\": -31.875, \"lon_min\": 146.25, \"lon_max\": 148.125, \"rain (mm/day)\": 1.4646912589453036}, {\"year\": 1964, \"model\": \"ACCESS-ESM1-5\", \"lat_min\": -33.125, \"lat_max\": -31.875, \"lon_min\": 147.1875, \"lon_max\": 149.0625, \"rain (mm/day)\": 2.714221117917196}, {\"year\": 1965, \"model\": \"ACCESS-CM2\", \"lat_min\": -33.125, \"lat_max\": -31.875, \"lon_min\": 146.25, \"lon_max\": 148.125, \"rain (mm/day)\": 2.6690362373884757}, {\"year\": 1965, \"model\": \"ACCESS-ESM1-5\", \"lat_min\": -33.125, \"lat_max\": -31.875, \"lon_min\": 147.1875, \"lon_max\": 149.0625, \"rain (mm/day)\": 1.8861767175988826}, {\"year\": 1966, \"model\": \"ACCESS-CM2\", \"lat_min\": -33.125, \"lat_max\": -31.875, \"lon_min\": 146.25, \"lon_max\": 148.125, \"rain (mm/day)\": 1.6093075259343383}, {\"year\": 1966, \"model\": \"ACCESS-ESM1-5\", \"lat_min\": -33.125, \"lat_max\": -31.875, \"lon_min\": 147.1875, \"lon_max\": 149.0625, \"rain (mm/day)\": 1.682076382550167}, {\"year\": 1967, \"model\": \"ACCESS-CM2\", \"lat_min\": -33.125, \"lat_max\": -31.875, \"lon_min\": 146.25, \"lon_max\": 148.125, \"rain (mm/day)\": 2.136003047772504}, {\"year\": 1967, \"model\": \"ACCESS-ESM1-5\", \"lat_min\": -33.125, \"lat_max\": -31.875, \"lon_min\": 147.1875, \"lon_max\": 149.0625, \"rain (mm/day)\": 2.526921311598993}, {\"year\": 1968, \"model\": \"ACCESS-CM2\", \"lat_min\": -33.125, \"lat_max\": -31.875, \"lon_min\": 146.25, \"lon_max\": 148.125, \"rain (mm/day)\": 1.8243193738610188}, {\"year\": 1968, \"model\": \"ACCESS-ESM1-5\", \"lat_min\": -33.125, \"lat_max\": -31.875, \"lon_min\": 147.1875, \"lon_max\": 149.0625, \"rain (mm/day)\": 1.713281233498543}, {\"year\": 1969, \"model\": \"ACCESS-CM2\", \"lat_min\": -33.125, \"lat_max\": -31.875, \"lon_min\": 146.25, \"lon_max\": 148.125, \"rain (mm/day)\": 2.26619579956971}, {\"year\": 1969, \"model\": \"ACCESS-ESM1-5\", \"lat_min\": -33.125, \"lat_max\": -31.875, \"lon_min\": 147.1875, \"lon_max\": 149.0625, \"rain (mm/day)\": 2.1927235991793803}, {\"year\": 1970, \"model\": \"ACCESS-CM2\", \"lat_min\": -33.125, \"lat_max\": -31.875, \"lon_min\": 146.25, \"lon_max\": 148.125, \"rain (mm/day)\": 1.8590485071244598}, {\"year\": 1970, \"model\": \"ACCESS-ESM1-5\", \"lat_min\": -33.125, \"lat_max\": -31.875, \"lon_min\": 147.1875, \"lon_max\": 149.0625, \"rain (mm/day)\": 2.2843520856131723}, {\"year\": 1971, \"model\": \"ACCESS-CM2\", \"lat_min\": -33.125, \"lat_max\": -31.875, \"lon_min\": 146.25, \"lon_max\": 148.125, \"rain (mm/day)\": 2.301617033788229}, {\"year\": 1971, \"model\": \"ACCESS-ESM1-5\", \"lat_min\": -33.125, \"lat_max\": -31.875, \"lon_min\": 147.1875, \"lon_max\": 149.0625, \"rain (mm/day)\": 1.901929047865997}, {\"year\": 1972, \"model\": \"ACCESS-CM2\", \"lat_min\": -33.125, \"lat_max\": -31.875, \"lon_min\": 146.25, \"lon_max\": 148.125, \"rain (mm/day)\": 2.439916610332158}, {\"year\": 1972, \"model\": \"ACCESS-ESM1-5\", \"lat_min\": -33.125, \"lat_max\": -31.875, \"lon_min\": 147.1875, \"lon_max\": 149.0625, \"rain (mm/day)\": 2.1720532476468644}, {\"year\": 1973, \"model\": \"ACCESS-CM2\", \"lat_min\": -33.125, \"lat_max\": -31.875, \"lon_min\": 146.25, \"lon_max\": 148.125, \"rain (mm/day)\": 2.552247638991317}, {\"year\": 1973, \"model\": \"ACCESS-ESM1-5\", \"lat_min\": -33.125, \"lat_max\": -31.875, \"lon_min\": 147.1875, \"lon_max\": 149.0625, \"rain (mm/day)\": 1.9969751717029807}, {\"year\": 1974, \"model\": \"ACCESS-CM2\", \"lat_min\": -33.125, \"lat_max\": -31.875, \"lon_min\": 146.25, \"lon_max\": 148.125, \"rain (mm/day)\": 1.6058794761283177}, {\"year\": 1974, \"model\": \"ACCESS-ESM1-5\", \"lat_min\": -33.125, \"lat_max\": -31.875, \"lon_min\": 147.1875, \"lon_max\": 149.0625, \"rain (mm/day)\": 1.76301271989987}, {\"year\": 1975, \"model\": \"ACCESS-CM2\", \"lat_min\": -33.125, \"lat_max\": -31.875, \"lon_min\": 146.25, \"lon_max\": 148.125, \"rain (mm/day)\": 1.543108845208019}, {\"year\": 1975, \"model\": \"ACCESS-ESM1-5\", \"lat_min\": -33.125, \"lat_max\": -31.875, \"lon_min\": 147.1875, \"lon_max\": 149.0625, \"rain (mm/day)\": 2.586045374324526}, {\"year\": 1976, \"model\": \"ACCESS-CM2\", \"lat_min\": -33.125, \"lat_max\": -31.875, \"lon_min\": 146.25, \"lon_max\": 148.125, \"rain (mm/day)\": 1.3986691565954072}, {\"year\": 1976, \"model\": \"ACCESS-ESM1-5\", \"lat_min\": -33.125, \"lat_max\": -31.875, \"lon_min\": 147.1875, \"lon_max\": 149.0625, \"rain (mm/day)\": 1.8117006853659612}, {\"year\": 1977, \"model\": \"ACCESS-CM2\", \"lat_min\": -33.125, \"lat_max\": -31.875, \"lon_min\": 146.25, \"lon_max\": 148.125, \"rain (mm/day)\": 2.090314908263989}, {\"year\": 1977, \"model\": \"ACCESS-ESM1-5\", \"lat_min\": -33.125, \"lat_max\": -31.875, \"lon_min\": 147.1875, \"lon_max\": 149.0625, \"rain (mm/day)\": 1.9082988842782425}, {\"year\": 1978, \"model\": \"ACCESS-CM2\", \"lat_min\": -33.125, \"lat_max\": -31.875, \"lon_min\": 146.25, \"lon_max\": 148.125, \"rain (mm/day)\": 1.6231097580650942}, {\"year\": 1978, \"model\": \"ACCESS-ESM1-5\", \"lat_min\": -33.125, \"lat_max\": -31.875, \"lon_min\": 147.1875, \"lon_max\": 149.0625, \"rain (mm/day)\": 2.687601468048958}, {\"year\": 1979, \"model\": \"ACCESS-CM2\", \"lat_min\": -33.125, \"lat_max\": -31.875, \"lon_min\": 146.25, \"lon_max\": 148.125, \"rain (mm/day)\": 2.289840176793108}, {\"year\": 1979, \"model\": \"ACCESS-ESM1-5\", \"lat_min\": -33.125, \"lat_max\": -31.875, \"lon_min\": 147.1875, \"lon_max\": 149.0625, \"rain (mm/day)\": 2.1116364683702398}, {\"year\": 1980, \"model\": \"ACCESS-CM2\", \"lat_min\": -33.125, \"lat_max\": -31.875, \"lon_min\": 146.25, \"lon_max\": 148.125, \"rain (mm/day)\": 2.168928359016857}, {\"year\": 1980, \"model\": \"ACCESS-ESM1-5\", \"lat_min\": -33.125, \"lat_max\": -31.875, \"lon_min\": 147.1875, \"lon_max\": 149.0625, \"rain (mm/day)\": 1.6372662400992586}, {\"year\": 1981, \"model\": \"ACCESS-CM2\", \"lat_min\": -33.125, \"lat_max\": -31.875, \"lon_min\": 146.25, \"lon_max\": 148.125, \"rain (mm/day)\": 1.5785342346143791}, {\"year\": 1981, \"model\": \"ACCESS-ESM1-5\", \"lat_min\": -33.125, \"lat_max\": -31.875, \"lon_min\": 147.1875, \"lon_max\": 149.0625, \"rain (mm/day)\": 2.5255895123495984}, {\"year\": 1982, \"model\": \"ACCESS-CM2\", \"lat_min\": -33.125, \"lat_max\": -31.875, \"lon_min\": 146.25, \"lon_max\": 148.125, \"rain (mm/day)\": 2.3123066026226264}, {\"year\": 1982, \"model\": \"ACCESS-ESM1-5\", \"lat_min\": -33.125, \"lat_max\": -31.875, \"lon_min\": 147.1875, \"lon_max\": 149.0625, \"rain (mm/day)\": 2.529430746329874}, {\"year\": 1983, \"model\": \"ACCESS-CM2\", \"lat_min\": -33.125, \"lat_max\": -31.875, \"lon_min\": 146.25, \"lon_max\": 148.125, \"rain (mm/day)\": 2.4929007011769198}, {\"year\": 1983, \"model\": \"ACCESS-ESM1-5\", \"lat_min\": -33.125, \"lat_max\": -31.875, \"lon_min\": 147.1875, \"lon_max\": 149.0625, \"rain (mm/day)\": 1.7066670107925959}, {\"year\": 1984, \"model\": \"ACCESS-CM2\", \"lat_min\": -33.125, \"lat_max\": -31.875, \"lon_min\": 146.25, \"lon_max\": 148.125, \"rain (mm/day)\": 1.8635297773352641}, {\"year\": 1984, \"model\": \"ACCESS-ESM1-5\", \"lat_min\": -33.125, \"lat_max\": -31.875, \"lon_min\": 147.1875, \"lon_max\": 149.0625, \"rain (mm/day)\": 1.594618263959383}, {\"year\": 1985, \"model\": \"ACCESS-CM2\", \"lat_min\": -33.125, \"lat_max\": -31.875, \"lon_min\": 146.25, \"lon_max\": 148.125, \"rain (mm/day)\": 1.5673710508764018}, {\"year\": 1985, \"model\": \"ACCESS-ESM1-5\", \"lat_min\": -33.125, \"lat_max\": -31.875, \"lon_min\": 147.1875, \"lon_max\": 149.0625, \"rain (mm/day)\": 2.6690870615431606}, {\"year\": 1986, \"model\": \"ACCESS-CM2\", \"lat_min\": -33.125, \"lat_max\": -31.875, \"lon_min\": 146.25, \"lon_max\": 148.125, \"rain (mm/day)\": 3.3020754003639476}, {\"year\": 1986, \"model\": \"ACCESS-ESM1-5\", \"lat_min\": -33.125, \"lat_max\": -31.875, \"lon_min\": 147.1875, \"lon_max\": 149.0625, \"rain (mm/day)\": 2.304581793090766}, {\"year\": 1987, \"model\": \"ACCESS-CM2\", \"lat_min\": -33.125, \"lat_max\": -31.875, \"lon_min\": 146.25, \"lon_max\": 148.125, \"rain (mm/day)\": 2.7361140059308684}, {\"year\": 1987, \"model\": \"ACCESS-ESM1-5\", \"lat_min\": -33.125, \"lat_max\": -31.875, \"lon_min\": 147.1875, \"lon_max\": 149.0625, \"rain (mm/day)\": 2.3069119452457993}, {\"year\": 1988, \"model\": \"ACCESS-CM2\", \"lat_min\": -33.125, \"lat_max\": -31.875, \"lon_min\": 146.25, \"lon_max\": 148.125, \"rain (mm/day)\": 2.170441434217066}, {\"year\": 1988, \"model\": \"ACCESS-ESM1-5\", \"lat_min\": -33.125, \"lat_max\": -31.875, \"lon_min\": 147.1875, \"lon_max\": 149.0625, \"rain (mm/day)\": 1.6181928678714408}, {\"year\": 1989, \"model\": \"ACCESS-CM2\", \"lat_min\": -33.125, \"lat_max\": -31.875, \"lon_min\": 146.25, \"lon_max\": 148.125, \"rain (mm/day)\": 1.82143466459299}, {\"year\": 1989, \"model\": \"ACCESS-ESM1-5\", \"lat_min\": -33.125, \"lat_max\": -31.875, \"lon_min\": 147.1875, \"lon_max\": 149.0625, \"rain (mm/day)\": 2.0528488286713116}, {\"year\": 1990, \"model\": \"ACCESS-CM2\", \"lat_min\": -33.125, \"lat_max\": -31.875, \"lon_min\": 146.25, \"lon_max\": 148.125, \"rain (mm/day)\": 1.363434898937825}, {\"year\": 1990, \"model\": \"ACCESS-ESM1-5\", \"lat_min\": -33.125, \"lat_max\": -31.875, \"lon_min\": 147.1875, \"lon_max\": 149.0625, \"rain (mm/day)\": 2.1806814929064564}, {\"year\": 1991, \"model\": \"ACCESS-CM2\", \"lat_min\": -33.125, \"lat_max\": -31.875, \"lon_min\": 146.25, \"lon_max\": 148.125, \"rain (mm/day)\": 1.8303159807609872}, {\"year\": 1991, \"model\": \"ACCESS-ESM1-5\", \"lat_min\": -33.125, \"lat_max\": -31.875, \"lon_min\": 147.1875, \"lon_max\": 149.0625, \"rain (mm/day)\": 2.2618847806837064}, {\"year\": 1992, \"model\": \"ACCESS-CM2\", \"lat_min\": -33.125, \"lat_max\": -31.875, \"lon_min\": 146.25, \"lon_max\": 148.125, \"rain (mm/day)\": 1.7889255912616577}, {\"year\": 1992, \"model\": \"ACCESS-ESM1-5\", \"lat_min\": -33.125, \"lat_max\": -31.875, \"lon_min\": 147.1875, \"lon_max\": 149.0625, \"rain (mm/day)\": 2.5544119688459404}, {\"year\": 1993, \"model\": \"ACCESS-CM2\", \"lat_min\": -33.125, \"lat_max\": -31.875, \"lon_min\": 146.25, \"lon_max\": 148.125, \"rain (mm/day)\": 1.2904172252211503}, {\"year\": 1993, \"model\": \"ACCESS-ESM1-5\", \"lat_min\": -33.125, \"lat_max\": -31.875, \"lon_min\": 147.1875, \"lon_max\": 149.0625, \"rain (mm/day)\": 3.0804196837115474}, {\"year\": 1994, \"model\": \"ACCESS-CM2\", \"lat_min\": -33.125, \"lat_max\": -31.875, \"lon_min\": 146.25, \"lon_max\": 148.125, \"rain (mm/day)\": 2.0241447171615543}, {\"year\": 1994, \"model\": \"ACCESS-ESM1-5\", \"lat_min\": -33.125, \"lat_max\": -31.875, \"lon_min\": 147.1875, \"lon_max\": 149.0625, \"rain (mm/day)\": 2.8888877304439733}, {\"year\": 1995, \"model\": \"ACCESS-CM2\", \"lat_min\": -33.125, \"lat_max\": -31.875, \"lon_min\": 146.25, \"lon_max\": 148.125, \"rain (mm/day)\": 1.2925959949508865}, {\"year\": 1995, \"model\": \"ACCESS-ESM1-5\", \"lat_min\": -33.125, \"lat_max\": -31.875, \"lon_min\": 147.1875, \"lon_max\": 149.0625, \"rain (mm/day)\": 1.9154437424166286}, {\"year\": 1996, \"model\": \"ACCESS-CM2\", \"lat_min\": -33.125, \"lat_max\": -31.875, \"lon_min\": 146.25, \"lon_max\": 148.125, \"rain (mm/day)\": 1.6626583604290779}, {\"year\": 1996, \"model\": \"ACCESS-ESM1-5\", \"lat_min\": -33.125, \"lat_max\": -31.875, \"lon_min\": 147.1875, \"lon_max\": 149.0625, \"rain (mm/day)\": 1.515648386205457}, {\"year\": 1997, \"model\": \"ACCESS-CM2\", \"lat_min\": -33.125, \"lat_max\": -31.875, \"lon_min\": 146.25, \"lon_max\": 148.125, \"rain (mm/day)\": 2.1092543541151145}, {\"year\": 1997, \"model\": \"ACCESS-ESM1-5\", \"lat_min\": -33.125, \"lat_max\": -31.875, \"lon_min\": 147.1875, \"lon_max\": 149.0625, \"rain (mm/day)\": 1.878505390346702}, {\"year\": 1998, \"model\": \"ACCESS-CM2\", \"lat_min\": -33.125, \"lat_max\": -31.875, \"lon_min\": 146.25, \"lon_max\": 148.125, \"rain (mm/day)\": 1.8891905811327268}, {\"year\": 1998, \"model\": \"ACCESS-ESM1-5\", \"lat_min\": -33.125, \"lat_max\": -31.875, \"lon_min\": 147.1875, \"lon_max\": 149.0625, \"rain (mm/day)\": 2.0435490410163735}, {\"year\": 1999, \"model\": \"ACCESS-CM2\", \"lat_min\": -33.125, \"lat_max\": -31.875, \"lon_min\": 146.25, \"lon_max\": 148.125, \"rain (mm/day)\": 1.3772131491095592}, {\"year\": 1999, \"model\": \"ACCESS-ESM1-5\", \"lat_min\": -33.125, \"lat_max\": -31.875, \"lon_min\": 147.1875, \"lon_max\": 149.0625, \"rain (mm/day)\": 2.6653529751859653}, {\"year\": 2000, \"model\": \"ACCESS-CM2\", \"lat_min\": -33.125, \"lat_max\": -31.875, \"lon_min\": 146.25, \"lon_max\": 148.125, \"rain (mm/day)\": 1.5668568313927904}, {\"year\": 2000, \"model\": \"ACCESS-ESM1-5\", \"lat_min\": -33.125, \"lat_max\": -31.875, \"lon_min\": 147.1875, \"lon_max\": 149.0625, \"rain (mm/day)\": 2.245045690530315}, {\"year\": 2001, \"model\": \"ACCESS-CM2\", \"lat_min\": -33.125, \"lat_max\": -31.875, \"lon_min\": 146.25, \"lon_max\": 148.125, \"rain (mm/day)\": 1.7450510367801446}, {\"year\": 2001, \"model\": \"ACCESS-ESM1-5\", \"lat_min\": -33.125, \"lat_max\": -31.875, \"lon_min\": 147.1875, \"lon_max\": 149.0625, \"rain (mm/day)\": 2.1746049160330285}, {\"year\": 2002, \"model\": \"ACCESS-CM2\", \"lat_min\": -33.125, \"lat_max\": -31.875, \"lon_min\": 146.25, \"lon_max\": 148.125, \"rain (mm/day)\": 2.3450465634776068}, {\"year\": 2002, \"model\": \"ACCESS-ESM1-5\", \"lat_min\": -33.125, \"lat_max\": -31.875, \"lon_min\": 147.1875, \"lon_max\": 149.0625, \"rain (mm/day)\": 2.2675284525358035}, {\"year\": 2003, \"model\": \"ACCESS-CM2\", \"lat_min\": -33.125, \"lat_max\": -31.875, \"lon_min\": 146.25, \"lon_max\": 148.125, \"rain (mm/day)\": 1.8255132488783323}, {\"year\": 2003, \"model\": \"ACCESS-ESM1-5\", \"lat_min\": -33.125, \"lat_max\": -31.875, \"lon_min\": 147.1875, \"lon_max\": 149.0625, \"rain (mm/day)\": 1.838277081574336}, {\"year\": 2004, \"model\": \"ACCESS-CM2\", \"lat_min\": -33.125, \"lat_max\": -31.875, \"lon_min\": 146.25, \"lon_max\": 148.125, \"rain (mm/day)\": 1.5506292769197705}, {\"year\": 2004, \"model\": \"ACCESS-ESM1-5\", \"lat_min\": -33.125, \"lat_max\": -31.875, \"lon_min\": 147.1875, \"lon_max\": 149.0625, \"rain (mm/day)\": 2.043777081330236}, {\"year\": 2005, \"model\": \"ACCESS-CM2\", \"lat_min\": -33.125, \"lat_max\": -31.875, \"lon_min\": 146.25, \"lon_max\": 148.125, \"rain (mm/day)\": 1.6294786168763231}, {\"year\": 2005, \"model\": \"ACCESS-ESM1-5\", \"lat_min\": -33.125, \"lat_max\": -31.875, \"lon_min\": 147.1875, \"lon_max\": 149.0625, \"rain (mm/day)\": 1.6842489227984507}, {\"year\": 2006, \"model\": \"ACCESS-CM2\", \"lat_min\": -33.125, \"lat_max\": -31.875, \"lon_min\": 146.25, \"lon_max\": 148.125, \"rain (mm/day)\": 2.8421401949947023}, {\"year\": 2006, \"model\": \"ACCESS-ESM1-5\", \"lat_min\": -33.125, \"lat_max\": -31.875, \"lon_min\": 147.1875, \"lon_max\": 149.0625, \"rain (mm/day)\": 1.4736277512857063}, {\"year\": 2007, \"model\": \"ACCESS-CM2\", \"lat_min\": -33.125, \"lat_max\": -31.875, \"lon_min\": 146.25, \"lon_max\": 148.125, \"rain (mm/day)\": 2.294831101917551}, {\"year\": 2007, \"model\": \"ACCESS-ESM1-5\", \"lat_min\": -33.125, \"lat_max\": -31.875, \"lon_min\": 147.1875, \"lon_max\": 149.0625, \"rain (mm/day)\": 2.7064522547595145}, {\"year\": 2008, \"model\": \"ACCESS-CM2\", \"lat_min\": -33.125, \"lat_max\": -31.875, \"lon_min\": 146.25, \"lon_max\": 148.125, \"rain (mm/day)\": 1.4107064883733964}, {\"year\": 2008, \"model\": \"ACCESS-ESM1-5\", \"lat_min\": -33.125, \"lat_max\": -31.875, \"lon_min\": 147.1875, \"lon_max\": 149.0625, \"rain (mm/day)\": 2.045025371635868}, {\"year\": 2009, \"model\": \"ACCESS-CM2\", \"lat_min\": -33.125, \"lat_max\": -31.875, \"lon_min\": 146.25, \"lon_max\": 148.125, \"rain (mm/day)\": 1.7060698500560136}, {\"year\": 2009, \"model\": \"ACCESS-ESM1-5\", \"lat_min\": -33.125, \"lat_max\": -31.875, \"lon_min\": 147.1875, \"lon_max\": 149.0625, \"rain (mm/day)\": 1.97453788399859}, {\"year\": 2010, \"model\": \"ACCESS-CM2\", \"lat_min\": -33.125, \"lat_max\": -31.875, \"lon_min\": 146.25, \"lon_max\": 148.125, \"rain (mm/day)\": 1.4242139076461304}, {\"year\": 2010, \"model\": \"ACCESS-ESM1-5\", \"lat_min\": -33.125, \"lat_max\": -31.875, \"lon_min\": 147.1875, \"lon_max\": 149.0625, \"rain (mm/day)\": 2.1859472851117423}, {\"year\": 2011, \"model\": \"ACCESS-CM2\", \"lat_min\": -33.125, \"lat_max\": -31.875, \"lon_min\": 146.25, \"lon_max\": 148.125, \"rain (mm/day)\": 1.7644642969225186}, {\"year\": 2011, \"model\": \"ACCESS-ESM1-5\", \"lat_min\": -33.125, \"lat_max\": -31.875, \"lon_min\": 147.1875, \"lon_max\": 149.0625, \"rain (mm/day)\": 1.9247441052923346}, {\"year\": 2012, \"model\": \"ACCESS-CM2\", \"lat_min\": -33.125, \"lat_max\": -31.875, \"lon_min\": 146.25, \"lon_max\": 148.125, \"rain (mm/day)\": 2.4618423192570598}, {\"year\": 2012, \"model\": \"ACCESS-ESM1-5\", \"lat_min\": -33.125, \"lat_max\": -31.875, \"lon_min\": 147.1875, \"lon_max\": 149.0625, \"rain (mm/day)\": 2.2097593419014996}, {\"year\": 2013, \"model\": \"ACCESS-CM2\", \"lat_min\": -33.125, \"lat_max\": -31.875, \"lon_min\": 146.25, \"lon_max\": 148.125, \"rain (mm/day)\": 2.4624042417630694}, {\"year\": 2013, \"model\": \"ACCESS-ESM1-5\", \"lat_min\": -33.125, \"lat_max\": -31.875, \"lon_min\": 147.1875, \"lon_max\": 149.0625, \"rain (mm/day)\": 1.9380260765456117}, {\"year\": 2014, \"model\": \"ACCESS-CM2\", \"lat_min\": -33.125, \"lat_max\": -31.875, \"lon_min\": 146.25, \"lon_max\": 148.125, \"rain (mm/day)\": 1.6310204942212398}, {\"year\": 2014, \"model\": \"ACCESS-ESM1-5\", \"lat_min\": -33.125, \"lat_max\": -31.875, \"lon_min\": 147.1875, \"lon_max\": 149.0625, \"rain (mm/day)\": 1.7250264550185466}]}}, {\"mode\": \"vega-lite\"});\n",
       "</script>"
      ],
      "text/plain": [
       "alt.FacetChart(...)"
      ]
     },
     "execution_count": 52,
     "metadata": {},
     "output_type": "execute_result"
    }
   ],
   "source": [
    "# plot the data and facet by model\n",
    "import altair as alt\n",
    "alt.data_transformers.disable_max_rows()\n",
    "alt.Chart(data_filtered).mark_line().encode(\n",
    "    x='year',\n",
    "    y='rain (mm/day):Q',\n",
    "    color='model:N'\n",
    ").properties(\n",
    "    width=400,\n",
    "    height=200\n",
    ").facet(\n",
    "    row='model:N'\n",
    ")\n"
   ]
  },
  {
   "cell_type": "markdown",
   "metadata": {},
   "source": [
    "#### Conclusion and Discussion"
   ]
  },
  {
   "cell_type": "markdown",
   "metadata": {},
   "source": [
    "| Team Member | Operating System | RAM | Processor | Is SSD | Time taken for Each Type of Memory Reduction |\n",
    "|:-----------:|:----------------:|:---:|:---------:|:------:|:----------:|\n",
    "| Sam   |    macOS Catalina      |16GB | 2.8 GHz 4 Core i7   |  Yes   | 3mins, 2.5mins, 1.9mins     |\n",
    "| Member 2    |                  |     |           |        |            |\n",
    "| Member 3    |                  |     |           |        |            |\n",
    "| Member 4    |                  |     |           |        |            |\n",
    "\n",
    "I attempted to show some plots but unless I loaded only parts of the dataset, they would not execute. In terms of memory space, changing the data types was the best at reducing the size of the object. This is due to the changing of the numerical data from float64 to float32, which is effectively half the space. The trade-off for doing this is that now our data is less precise than before."
   ]
  }
 ],
 "metadata": {
  "interpreter": {
   "hash": "f14e0129284baee33e181c84cc9d0bde2f4d5d150c38a0731cd7f961ea43cb0c"
  },
  "kernelspec": {
   "display_name": "Python 3 (ipykernel)",
   "language": "python",
   "name": "python3"
  },
  "language_info": {
   "codemirror_mode": {
    "name": "ipython",
    "version": 3
   },
   "file_extension": ".py",
   "mimetype": "text/x-python",
   "name": "python",
   "nbconvert_exporter": "python",
   "pygments_lexer": "ipython3",
   "version": "3.8.6"
  }
 },
 "nbformat": 4,
 "nbformat_minor": 4
}
