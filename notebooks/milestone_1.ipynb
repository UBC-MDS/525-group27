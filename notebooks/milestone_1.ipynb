{
 "cells": [
  {
   "cell_type": "markdown",
   "metadata": {},
   "source": [
    "## RainFall Data Analysis"
   ]
  },
  {
   "cell_type": "code",
   "execution_count": 2,
   "metadata": {},
   "outputs": [],
   "source": [
    "import re\n",
    "import os\n",
    "import glob\n",
    "import zipfile\n",
    "import requests\n",
    "from urllib.request import urlretrieve\n",
    "import json\n",
    "import pandas as pd"
   ]
  },
  {
   "cell_type": "markdown",
   "metadata": {},
   "source": [
    "### Download Partitioned Data"
   ]
  },
  {
   "cell_type": "code",
   "execution_count": 2,
   "metadata": {},
   "outputs": [],
   "source": [
    "# Necessary metadata\n",
    "article_id = 14096681  # this is the unique identifier of the article on figshare\n",
    "url = f\"https://api.figshare.com/v2/articles/{article_id}\"\n",
    "headers = {\"Content-Type\": \"application/json\"}\n",
    "output_directory = \"../data/rainfall/partitions/\"\n",
    "\n",
    "\n",
    "# Retrieve the article metadata\n",
    "response = requests.request(\"GET\", url, headers=headers)\n",
    "data = json.loads(response.text)  # this contains all the articles data, feel free to check it out\n",
    "files = data[\"files\"]             # this is just the data about the files, which is what we want\n",
    "\n",
    "\n",
    "# Zip to Folder Unzip\n",
    "files_to_dl = [\"data.zip\"]  # feel free to add other files here\n",
    "for file in files:\n",
    "    if file[\"name\"] in files_to_dl:\n",
    "        os.makedirs(output_directory, exist_ok=True)\n",
    "        urlretrieve(file[\"download_url\"], output_directory + file[\"name\"])\n",
    "        \n",
    "with zipfile.ZipFile(os.path.join(output_directory, \"data.zip\"), 'r') as f:\n",
    "    f.extractall(output_directory)"
   ]
  },
  {
   "cell_type": "markdown",
   "metadata": {},
   "source": [
    "### Combine Data"
   ]
  },
  {
   "cell_type": "code",
   "execution_count": 4,
   "metadata": {},
   "outputs": [
    {
     "ename": "KeyboardInterrupt",
     "evalue": "",
     "output_type": "error",
     "traceback": [
      "\u001b[0;31m---------------------------------------------------------------------------\u001b[0m",
      "\u001b[0;31mKeyboardInterrupt\u001b[0m                         Traceback (most recent call last)",
      "File \u001b[0;32m<timed exec>:14\u001b[0m, in \u001b[0;36m<module>\u001b[0;34m\u001b[0m\n",
      "File \u001b[0;32m~/miniconda3/envs/mds525/lib/python3.8/site-packages/pandas/core/generic.py:3563\u001b[0m, in \u001b[0;36mNDFrame.to_csv\u001b[0;34m(self, path_or_buf, sep, na_rep, float_format, columns, header, index, index_label, mode, encoding, compression, quoting, quotechar, line_terminator, chunksize, date_format, doublequote, escapechar, decimal, errors, storage_options)\u001b[0m\n\u001b[1;32m   <a href='file:///Users/sonchau/miniconda3/envs/mds525/lib/python3.8/site-packages/pandas/core/generic.py?line=3551'>3552</a>\u001b[0m df \u001b[39m=\u001b[39m \u001b[39mself\u001b[39m \u001b[39mif\u001b[39;00m \u001b[39misinstance\u001b[39m(\u001b[39mself\u001b[39m, ABCDataFrame) \u001b[39melse\u001b[39;00m \u001b[39mself\u001b[39m\u001b[39m.\u001b[39mto_frame()\n\u001b[1;32m   <a href='file:///Users/sonchau/miniconda3/envs/mds525/lib/python3.8/site-packages/pandas/core/generic.py?line=3553'>3554</a>\u001b[0m formatter \u001b[39m=\u001b[39m DataFrameFormatter(\n\u001b[1;32m   <a href='file:///Users/sonchau/miniconda3/envs/mds525/lib/python3.8/site-packages/pandas/core/generic.py?line=3554'>3555</a>\u001b[0m     frame\u001b[39m=\u001b[39mdf,\n\u001b[1;32m   <a href='file:///Users/sonchau/miniconda3/envs/mds525/lib/python3.8/site-packages/pandas/core/generic.py?line=3555'>3556</a>\u001b[0m     header\u001b[39m=\u001b[39mheader,\n\u001b[0;32m   (...)\u001b[0m\n\u001b[1;32m   <a href='file:///Users/sonchau/miniconda3/envs/mds525/lib/python3.8/site-packages/pandas/core/generic.py?line=3559'>3560</a>\u001b[0m     decimal\u001b[39m=\u001b[39mdecimal,\n\u001b[1;32m   <a href='file:///Users/sonchau/miniconda3/envs/mds525/lib/python3.8/site-packages/pandas/core/generic.py?line=3560'>3561</a>\u001b[0m )\n\u001b[0;32m-> <a href='file:///Users/sonchau/miniconda3/envs/mds525/lib/python3.8/site-packages/pandas/core/generic.py?line=3562'>3563</a>\u001b[0m \u001b[39mreturn\u001b[39;00m DataFrameRenderer(formatter)\u001b[39m.\u001b[39;49mto_csv(\n\u001b[1;32m   <a href='file:///Users/sonchau/miniconda3/envs/mds525/lib/python3.8/site-packages/pandas/core/generic.py?line=3563'>3564</a>\u001b[0m     path_or_buf,\n\u001b[1;32m   <a href='file:///Users/sonchau/miniconda3/envs/mds525/lib/python3.8/site-packages/pandas/core/generic.py?line=3564'>3565</a>\u001b[0m     line_terminator\u001b[39m=\u001b[39;49mline_terminator,\n\u001b[1;32m   <a href='file:///Users/sonchau/miniconda3/envs/mds525/lib/python3.8/site-packages/pandas/core/generic.py?line=3565'>3566</a>\u001b[0m     sep\u001b[39m=\u001b[39;49msep,\n\u001b[1;32m   <a href='file:///Users/sonchau/miniconda3/envs/mds525/lib/python3.8/site-packages/pandas/core/generic.py?line=3566'>3567</a>\u001b[0m     encoding\u001b[39m=\u001b[39;49mencoding,\n\u001b[1;32m   <a href='file:///Users/sonchau/miniconda3/envs/mds525/lib/python3.8/site-packages/pandas/core/generic.py?line=3567'>3568</a>\u001b[0m     errors\u001b[39m=\u001b[39;49merrors,\n\u001b[1;32m   <a href='file:///Users/sonchau/miniconda3/envs/mds525/lib/python3.8/site-packages/pandas/core/generic.py?line=3568'>3569</a>\u001b[0m     compression\u001b[39m=\u001b[39;49mcompression,\n\u001b[1;32m   <a href='file:///Users/sonchau/miniconda3/envs/mds525/lib/python3.8/site-packages/pandas/core/generic.py?line=3569'>3570</a>\u001b[0m     quoting\u001b[39m=\u001b[39;49mquoting,\n\u001b[1;32m   <a href='file:///Users/sonchau/miniconda3/envs/mds525/lib/python3.8/site-packages/pandas/core/generic.py?line=3570'>3571</a>\u001b[0m     columns\u001b[39m=\u001b[39;49mcolumns,\n\u001b[1;32m   <a href='file:///Users/sonchau/miniconda3/envs/mds525/lib/python3.8/site-packages/pandas/core/generic.py?line=3571'>3572</a>\u001b[0m     index_label\u001b[39m=\u001b[39;49mindex_label,\n\u001b[1;32m   <a href='file:///Users/sonchau/miniconda3/envs/mds525/lib/python3.8/site-packages/pandas/core/generic.py?line=3572'>3573</a>\u001b[0m     mode\u001b[39m=\u001b[39;49mmode,\n\u001b[1;32m   <a href='file:///Users/sonchau/miniconda3/envs/mds525/lib/python3.8/site-packages/pandas/core/generic.py?line=3573'>3574</a>\u001b[0m     chunksize\u001b[39m=\u001b[39;49mchunksize,\n\u001b[1;32m   <a href='file:///Users/sonchau/miniconda3/envs/mds525/lib/python3.8/site-packages/pandas/core/generic.py?line=3574'>3575</a>\u001b[0m     quotechar\u001b[39m=\u001b[39;49mquotechar,\n\u001b[1;32m   <a href='file:///Users/sonchau/miniconda3/envs/mds525/lib/python3.8/site-packages/pandas/core/generic.py?line=3575'>3576</a>\u001b[0m     date_format\u001b[39m=\u001b[39;49mdate_format,\n\u001b[1;32m   <a href='file:///Users/sonchau/miniconda3/envs/mds525/lib/python3.8/site-packages/pandas/core/generic.py?line=3576'>3577</a>\u001b[0m     doublequote\u001b[39m=\u001b[39;49mdoublequote,\n\u001b[1;32m   <a href='file:///Users/sonchau/miniconda3/envs/mds525/lib/python3.8/site-packages/pandas/core/generic.py?line=3577'>3578</a>\u001b[0m     escapechar\u001b[39m=\u001b[39;49mescapechar,\n\u001b[1;32m   <a href='file:///Users/sonchau/miniconda3/envs/mds525/lib/python3.8/site-packages/pandas/core/generic.py?line=3578'>3579</a>\u001b[0m     storage_options\u001b[39m=\u001b[39;49mstorage_options,\n\u001b[1;32m   <a href='file:///Users/sonchau/miniconda3/envs/mds525/lib/python3.8/site-packages/pandas/core/generic.py?line=3579'>3580</a>\u001b[0m )\n",
      "File \u001b[0;32m~/miniconda3/envs/mds525/lib/python3.8/site-packages/pandas/io/formats/format.py:1180\u001b[0m, in \u001b[0;36mDataFrameRenderer.to_csv\u001b[0;34m(self, path_or_buf, encoding, sep, columns, index_label, mode, compression, quoting, quotechar, line_terminator, chunksize, date_format, doublequote, escapechar, errors, storage_options)\u001b[0m\n\u001b[1;32m   <a href='file:///Users/sonchau/miniconda3/envs/mds525/lib/python3.8/site-packages/pandas/io/formats/format.py?line=1158'>1159</a>\u001b[0m     created_buffer \u001b[39m=\u001b[39m \u001b[39mFalse\u001b[39;00m\n\u001b[1;32m   <a href='file:///Users/sonchau/miniconda3/envs/mds525/lib/python3.8/site-packages/pandas/io/formats/format.py?line=1160'>1161</a>\u001b[0m csv_formatter \u001b[39m=\u001b[39m CSVFormatter(\n\u001b[1;32m   <a href='file:///Users/sonchau/miniconda3/envs/mds525/lib/python3.8/site-packages/pandas/io/formats/format.py?line=1161'>1162</a>\u001b[0m     path_or_buf\u001b[39m=\u001b[39mpath_or_buf,\n\u001b[1;32m   <a href='file:///Users/sonchau/miniconda3/envs/mds525/lib/python3.8/site-packages/pandas/io/formats/format.py?line=1162'>1163</a>\u001b[0m     line_terminator\u001b[39m=\u001b[39mline_terminator,\n\u001b[0;32m   (...)\u001b[0m\n\u001b[1;32m   <a href='file:///Users/sonchau/miniconda3/envs/mds525/lib/python3.8/site-packages/pandas/io/formats/format.py?line=1177'>1178</a>\u001b[0m     formatter\u001b[39m=\u001b[39m\u001b[39mself\u001b[39m\u001b[39m.\u001b[39mfmt,\n\u001b[1;32m   <a href='file:///Users/sonchau/miniconda3/envs/mds525/lib/python3.8/site-packages/pandas/io/formats/format.py?line=1178'>1179</a>\u001b[0m )\n\u001b[0;32m-> <a href='file:///Users/sonchau/miniconda3/envs/mds525/lib/python3.8/site-packages/pandas/io/formats/format.py?line=1179'>1180</a>\u001b[0m csv_formatter\u001b[39m.\u001b[39;49msave()\n\u001b[1;32m   <a href='file:///Users/sonchau/miniconda3/envs/mds525/lib/python3.8/site-packages/pandas/io/formats/format.py?line=1181'>1182</a>\u001b[0m \u001b[39mif\u001b[39;00m created_buffer:\n\u001b[1;32m   <a href='file:///Users/sonchau/miniconda3/envs/mds525/lib/python3.8/site-packages/pandas/io/formats/format.py?line=1182'>1183</a>\u001b[0m     \u001b[39massert\u001b[39;00m \u001b[39misinstance\u001b[39m(path_or_buf, StringIO)\n",
      "File \u001b[0;32m~/miniconda3/envs/mds525/lib/python3.8/site-packages/pandas/io/formats/csvs.py:261\u001b[0m, in \u001b[0;36mCSVFormatter.save\u001b[0;34m(self)\u001b[0m\n\u001b[1;32m    <a href='file:///Users/sonchau/miniconda3/envs/mds525/lib/python3.8/site-packages/pandas/io/formats/csvs.py?line=240'>241</a>\u001b[0m \u001b[39mwith\u001b[39;00m get_handle(\n\u001b[1;32m    <a href='file:///Users/sonchau/miniconda3/envs/mds525/lib/python3.8/site-packages/pandas/io/formats/csvs.py?line=241'>242</a>\u001b[0m     \u001b[39mself\u001b[39m\u001b[39m.\u001b[39mfilepath_or_buffer,\n\u001b[1;32m    <a href='file:///Users/sonchau/miniconda3/envs/mds525/lib/python3.8/site-packages/pandas/io/formats/csvs.py?line=242'>243</a>\u001b[0m     \u001b[39mself\u001b[39m\u001b[39m.\u001b[39mmode,\n\u001b[0;32m   (...)\u001b[0m\n\u001b[1;32m    <a href='file:///Users/sonchau/miniconda3/envs/mds525/lib/python3.8/site-packages/pandas/io/formats/csvs.py?line=248'>249</a>\u001b[0m \n\u001b[1;32m    <a href='file:///Users/sonchau/miniconda3/envs/mds525/lib/python3.8/site-packages/pandas/io/formats/csvs.py?line=249'>250</a>\u001b[0m     \u001b[39m# Note: self.encoding is irrelevant here\u001b[39;00m\n\u001b[1;32m    <a href='file:///Users/sonchau/miniconda3/envs/mds525/lib/python3.8/site-packages/pandas/io/formats/csvs.py?line=250'>251</a>\u001b[0m     \u001b[39mself\u001b[39m\u001b[39m.\u001b[39mwriter \u001b[39m=\u001b[39m csvlib\u001b[39m.\u001b[39mwriter(\n\u001b[1;32m    <a href='file:///Users/sonchau/miniconda3/envs/mds525/lib/python3.8/site-packages/pandas/io/formats/csvs.py?line=251'>252</a>\u001b[0m         handles\u001b[39m.\u001b[39mhandle,\n\u001b[1;32m    <a href='file:///Users/sonchau/miniconda3/envs/mds525/lib/python3.8/site-packages/pandas/io/formats/csvs.py?line=252'>253</a>\u001b[0m         lineterminator\u001b[39m=\u001b[39m\u001b[39mself\u001b[39m\u001b[39m.\u001b[39mline_terminator,\n\u001b[0;32m   (...)\u001b[0m\n\u001b[1;32m    <a href='file:///Users/sonchau/miniconda3/envs/mds525/lib/python3.8/site-packages/pandas/io/formats/csvs.py?line=257'>258</a>\u001b[0m         quotechar\u001b[39m=\u001b[39m\u001b[39mself\u001b[39m\u001b[39m.\u001b[39mquotechar,\n\u001b[1;32m    <a href='file:///Users/sonchau/miniconda3/envs/mds525/lib/python3.8/site-packages/pandas/io/formats/csvs.py?line=258'>259</a>\u001b[0m     )\n\u001b[0;32m--> <a href='file:///Users/sonchau/miniconda3/envs/mds525/lib/python3.8/site-packages/pandas/io/formats/csvs.py?line=260'>261</a>\u001b[0m     \u001b[39mself\u001b[39;49m\u001b[39m.\u001b[39;49m_save()\n",
      "File \u001b[0;32m~/miniconda3/envs/mds525/lib/python3.8/site-packages/pandas/io/formats/csvs.py:266\u001b[0m, in \u001b[0;36mCSVFormatter._save\u001b[0;34m(self)\u001b[0m\n\u001b[1;32m    <a href='file:///Users/sonchau/miniconda3/envs/mds525/lib/python3.8/site-packages/pandas/io/formats/csvs.py?line=263'>264</a>\u001b[0m \u001b[39mif\u001b[39;00m \u001b[39mself\u001b[39m\u001b[39m.\u001b[39m_need_to_save_header:\n\u001b[1;32m    <a href='file:///Users/sonchau/miniconda3/envs/mds525/lib/python3.8/site-packages/pandas/io/formats/csvs.py?line=264'>265</a>\u001b[0m     \u001b[39mself\u001b[39m\u001b[39m.\u001b[39m_save_header()\n\u001b[0;32m--> <a href='file:///Users/sonchau/miniconda3/envs/mds525/lib/python3.8/site-packages/pandas/io/formats/csvs.py?line=265'>266</a>\u001b[0m \u001b[39mself\u001b[39;49m\u001b[39m.\u001b[39;49m_save_body()\n",
      "File \u001b[0;32m~/miniconda3/envs/mds525/lib/python3.8/site-packages/pandas/io/formats/csvs.py:304\u001b[0m, in \u001b[0;36mCSVFormatter._save_body\u001b[0;34m(self)\u001b[0m\n\u001b[1;32m    <a href='file:///Users/sonchau/miniconda3/envs/mds525/lib/python3.8/site-packages/pandas/io/formats/csvs.py?line=301'>302</a>\u001b[0m \u001b[39mif\u001b[39;00m start_i \u001b[39m>\u001b[39m\u001b[39m=\u001b[39m end_i:\n\u001b[1;32m    <a href='file:///Users/sonchau/miniconda3/envs/mds525/lib/python3.8/site-packages/pandas/io/formats/csvs.py?line=302'>303</a>\u001b[0m     \u001b[39mbreak\u001b[39;00m\n\u001b[0;32m--> <a href='file:///Users/sonchau/miniconda3/envs/mds525/lib/python3.8/site-packages/pandas/io/formats/csvs.py?line=303'>304</a>\u001b[0m \u001b[39mself\u001b[39;49m\u001b[39m.\u001b[39;49m_save_chunk(start_i, end_i)\n",
      "File \u001b[0;32m~/miniconda3/envs/mds525/lib/python3.8/site-packages/pandas/io/formats/csvs.py:315\u001b[0m, in \u001b[0;36mCSVFormatter._save_chunk\u001b[0;34m(self, start_i, end_i)\u001b[0m\n\u001b[1;32m    <a href='file:///Users/sonchau/miniconda3/envs/mds525/lib/python3.8/site-packages/pandas/io/formats/csvs.py?line=311'>312</a>\u001b[0m data \u001b[39m=\u001b[39m [res\u001b[39m.\u001b[39miget_values(i) \u001b[39mfor\u001b[39;00m i \u001b[39min\u001b[39;00m \u001b[39mrange\u001b[39m(\u001b[39mlen\u001b[39m(res\u001b[39m.\u001b[39mitems))]\n\u001b[1;32m    <a href='file:///Users/sonchau/miniconda3/envs/mds525/lib/python3.8/site-packages/pandas/io/formats/csvs.py?line=313'>314</a>\u001b[0m ix \u001b[39m=\u001b[39m \u001b[39mself\u001b[39m\u001b[39m.\u001b[39mdata_index[slicer]\u001b[39m.\u001b[39m_format_native_types(\u001b[39m*\u001b[39m\u001b[39m*\u001b[39m\u001b[39mself\u001b[39m\u001b[39m.\u001b[39m_number_format)\n\u001b[0;32m--> <a href='file:///Users/sonchau/miniconda3/envs/mds525/lib/python3.8/site-packages/pandas/io/formats/csvs.py?line=314'>315</a>\u001b[0m libwriters\u001b[39m.\u001b[39;49mwrite_csv_rows(\n\u001b[1;32m    <a href='file:///Users/sonchau/miniconda3/envs/mds525/lib/python3.8/site-packages/pandas/io/formats/csvs.py?line=315'>316</a>\u001b[0m     data,\n\u001b[1;32m    <a href='file:///Users/sonchau/miniconda3/envs/mds525/lib/python3.8/site-packages/pandas/io/formats/csvs.py?line=316'>317</a>\u001b[0m     ix,\n\u001b[1;32m    <a href='file:///Users/sonchau/miniconda3/envs/mds525/lib/python3.8/site-packages/pandas/io/formats/csvs.py?line=317'>318</a>\u001b[0m     \u001b[39mself\u001b[39;49m\u001b[39m.\u001b[39;49mnlevels,\n\u001b[1;32m    <a href='file:///Users/sonchau/miniconda3/envs/mds525/lib/python3.8/site-packages/pandas/io/formats/csvs.py?line=318'>319</a>\u001b[0m     \u001b[39mself\u001b[39;49m\u001b[39m.\u001b[39;49mcols,\n\u001b[1;32m    <a href='file:///Users/sonchau/miniconda3/envs/mds525/lib/python3.8/site-packages/pandas/io/formats/csvs.py?line=319'>320</a>\u001b[0m     \u001b[39mself\u001b[39;49m\u001b[39m.\u001b[39;49mwriter,\n\u001b[1;32m    <a href='file:///Users/sonchau/miniconda3/envs/mds525/lib/python3.8/site-packages/pandas/io/formats/csvs.py?line=320'>321</a>\u001b[0m )\n",
      "File \u001b[0;32m~/miniconda3/envs/mds525/lib/python3.8/site-packages/pandas/_libs/writers.pyx:55\u001b[0m, in \u001b[0;36mpandas._libs.writers.write_csv_rows\u001b[0;34m()\u001b[0m\n",
      "\u001b[0;31mKeyboardInterrupt\u001b[0m: "
     ]
    }
   ],
   "source": [
    "%%time\n",
    "# Read the data\n",
    "output_directory = \"../data/rainfall/partitions/\"\n",
    "files_to_combine = glob.glob(output_directory + \"*.csv\")\n",
    "files_to_combine.remove(output_directory + \"observed_daily_rainfall_SYD.csv\")\n",
    "df = pd.concat(\n",
    "    (pd.read_csv(file, index_col=0)\n",
    "                .assign(model=re.findall(r'[^\\/&\\\\]+(?=_daily_rainfall_NSW\\.)', file)[0])\n",
    "                for file in files_to_combine)\n",
    "    )\n",
    "\n",
    "# Save the combined data\n",
    "data_path = \"../data/rainfall/\"\n",
    "os.makedirs(data_path + \"combined/\", exist_ok=True)\n",
    "df.to_csv(data_path + \"combined/rainfall_data.csv\")\n"
   ]
  },
  {
   "cell_type": "markdown",
   "metadata": {},
   "source": [
    "### Loading Combined Data and Simple EDA"
   ]
  },
  {
   "cell_type": "code",
   "execution_count": 5,
   "metadata": {},
   "outputs": [],
   "source": [
    "# Read the data\n",
    "data = pd.read_csv(\"../data/rainfall/combined/rainfall_data.csv\")"
   ]
  },
  {
   "cell_type": "code",
   "execution_count": 5,
   "metadata": {},
   "outputs": [
    {
     "data": {
      "text/plain": [
       "11.448609766"
      ]
     },
     "execution_count": 5,
     "metadata": {},
     "output_type": "execute_result"
    }
   ],
   "source": [
    "# Testing different loading methods for EDA timing\n",
    "import sys\n",
    "# size of 'data' in gigabytes\n",
    "sys.getsizeof(data)/(1e9)"
   ]
  },
  {
   "cell_type": "code",
   "execution_count": 6,
   "metadata": {},
   "outputs": [
    {
     "data": {
      "text/plain": [
       "time              object\n",
       "lat_min          float64\n",
       "lat_max          float64\n",
       "lon_min          float64\n",
       "lon_max          float64\n",
       "rain (mm/day)    float64\n",
       "model             object\n",
       "dtype: object"
      ]
     },
     "execution_count": 6,
     "metadata": {},
     "output_type": "execute_result"
    }
   ],
   "source": [
    "data.dtypes"
   ]
  },
  {
   "cell_type": "markdown",
   "metadata": {},
   "source": [
    "#### No data manipulation"
   ]
  },
  {
   "cell_type": "code",
   "execution_count": 7,
   "metadata": {},
   "outputs": [
    {
     "name": "stdout",
     "output_type": "stream",
     "text": [
      "1min 51s ± 312 ms per loop (mean ± std. dev. of 2 runs, 3 loops each)\n"
     ]
    }
   ],
   "source": [
    "%%timeit -n 3 -r 2 # run statement 3 times for 2 repetitions\n",
    "data.value_counts()\n",
    "\n",
    "data.describe()\n",
    "\n",
    "data.nunique()"
   ]
  },
  {
   "cell_type": "markdown",
   "metadata": {},
   "source": [
    "#### Modifying Data Types"
   ]
  },
  {
   "cell_type": "code",
   "execution_count": 8,
   "metadata": {},
   "outputs": [
    {
     "data": {
      "text/plain": [
       "5.963029062"
      ]
     },
     "execution_count": 8,
     "metadata": {},
     "output_type": "execute_result"
    }
   ],
   "source": [
    "# Changing data types\n",
    "## Changed 'time' from `object` to `datetime.datetime`\n",
    "data['time'] = pd.to_datetime(data['time'])\n",
    "data[['lat_min', 'lat_max', 'lon_min', 'lon_max', 'rain (mm/day)']] = data[['lat_min', 'lat_max', 'lon_min', 'lon_max', 'rain (mm/day)']].astype('float32')\n",
    "sys.getsizeof(data)/(1e9) #size of modified data in GB"
   ]
  },
  {
   "cell_type": "code",
   "execution_count": 9,
   "metadata": {},
   "outputs": [
    {
     "name": "stdout",
     "output_type": "stream",
     "text": [
      "1min 36s ± 121 ms per loop (mean ± std. dev. of 2 runs, 3 loops each)\n"
     ]
    }
   ],
   "source": [
    "%%timeit -n 3 -r 2 # run statement 3 times for 2 repetitions\n",
    "data.value_counts()\n",
    "\n",
    "data.describe()\n",
    "\n",
    "data.nunique()"
   ]
  },
  {
   "cell_type": "markdown",
   "metadata": {},
   "source": [
    "#### Loading Select Columns"
   ]
  },
  {
   "cell_type": "code",
   "execution_count": 10,
   "metadata": {},
   "outputs": [],
   "source": [
    "# CLEAR MODIFIED DATAFRAME AND RELOAD\n",
    "del data\n",
    "\n",
    "data = pd.read_csv(\"../data/rainfall/combined/rainfall_data.csv\")"
   ]
  },
  {
   "cell_type": "code",
   "execution_count": 11,
   "metadata": {},
   "outputs": [
    {
     "data": {
      "text/plain": [
       "9.44963879"
      ]
     },
     "execution_count": 11,
     "metadata": {},
     "output_type": "execute_result"
    }
   ],
   "source": [
    "# Using only necessary columns (time, rainfall, model), location columns can be loaded in later if needed\n",
    "\n",
    "data = data[['time', 'rain (mm/day)', 'model']]\n",
    "sys.getsizeof(data)/(1e9) # Very interesting to see here, the location columns account for only ~10% of the total object size"
   ]
  },
  {
   "cell_type": "code",
   "execution_count": 12,
   "metadata": {},
   "outputs": [
    {
     "name": "stdout",
     "output_type": "stream",
     "text": [
      "1min 10s ± 188 ms per loop (mean ± std. dev. of 2 runs, 3 loops each)\n"
     ]
    }
   ],
   "source": [
    "%%timeit -n 3 -r 2 # run statement 3 times for 2 repetitions\n",
    "data.value_counts()\n",
    "\n",
    "data.describe()\n",
    "\n",
    "data.nunique()"
   ]
  },
  {
   "cell_type": "markdown",
   "metadata": {},
   "source": [
    "# Perform EDA on Python"
   ]
  },
  {
   "cell_type": "code",
   "execution_count": 7,
   "metadata": {},
   "outputs": [
    {
     "data": {
      "text/html": [
       "<div>\n",
       "<style scoped>\n",
       "    .dataframe tbody tr th:only-of-type {\n",
       "        vertical-align: middle;\n",
       "    }\n",
       "\n",
       "    .dataframe tbody tr th {\n",
       "        vertical-align: top;\n",
       "    }\n",
       "\n",
       "    .dataframe thead th {\n",
       "        text-align: right;\n",
       "    }\n",
       "</style>\n",
       "<table border=\"1\" class=\"dataframe\">\n",
       "  <thead>\n",
       "    <tr style=\"text-align: right;\">\n",
       "      <th></th>\n",
       "      <th>year</th>\n",
       "      <th>model</th>\n",
       "      <th>lat_min</th>\n",
       "      <th>lat_max</th>\n",
       "      <th>lon_min</th>\n",
       "      <th>lon_max</th>\n",
       "      <th>rain (mm/day)</th>\n",
       "    </tr>\n",
       "  </thead>\n",
       "  <tbody>\n",
       "    <tr>\n",
       "      <th>0</th>\n",
       "      <td>1889</td>\n",
       "      <td>ACCESS-CM2</td>\n",
       "      <td>-33.125</td>\n",
       "      <td>-31.875</td>\n",
       "      <td>146.25</td>\n",
       "      <td>148.125</td>\n",
       "      <td>1.398767</td>\n",
       "    </tr>\n",
       "    <tr>\n",
       "      <th>10</th>\n",
       "      <td>1890</td>\n",
       "      <td>ACCESS-CM2</td>\n",
       "      <td>-33.125</td>\n",
       "      <td>-31.875</td>\n",
       "      <td>146.25</td>\n",
       "      <td>148.125</td>\n",
       "      <td>1.488712</td>\n",
       "    </tr>\n",
       "    <tr>\n",
       "      <th>20</th>\n",
       "      <td>1891</td>\n",
       "      <td>ACCESS-CM2</td>\n",
       "      <td>-33.125</td>\n",
       "      <td>-31.875</td>\n",
       "      <td>146.25</td>\n",
       "      <td>148.125</td>\n",
       "      <td>2.198307</td>\n",
       "    </tr>\n",
       "    <tr>\n",
       "      <th>30</th>\n",
       "      <td>1892</td>\n",
       "      <td>ACCESS-CM2</td>\n",
       "      <td>-33.125</td>\n",
       "      <td>-31.875</td>\n",
       "      <td>146.25</td>\n",
       "      <td>148.125</td>\n",
       "      <td>2.044209</td>\n",
       "    </tr>\n",
       "    <tr>\n",
       "      <th>40</th>\n",
       "      <td>1893</td>\n",
       "      <td>ACCESS-CM2</td>\n",
       "      <td>-33.125</td>\n",
       "      <td>-31.875</td>\n",
       "      <td>146.25</td>\n",
       "      <td>148.125</td>\n",
       "      <td>1.866341</td>\n",
       "    </tr>\n",
       "  </tbody>\n",
       "</table>\n",
       "</div>"
      ],
      "text/plain": [
       "    year       model  lat_min  lat_max  lon_min  lon_max  rain (mm/day)\n",
       "0   1889  ACCESS-CM2  -33.125  -31.875   146.25  148.125       1.398767\n",
       "10  1890  ACCESS-CM2  -33.125  -31.875   146.25  148.125       1.488712\n",
       "20  1891  ACCESS-CM2  -33.125  -31.875   146.25  148.125       2.198307\n",
       "30  1892  ACCESS-CM2  -33.125  -31.875   146.25  148.125       2.044209\n",
       "40  1893  ACCESS-CM2  -33.125  -31.875   146.25  148.125       1.866341"
      ]
     },
     "execution_count": 7,
     "metadata": {},
     "output_type": "execute_result"
    }
   ],
   "source": [
    "# convert time to datetime year only\n",
    "data['time'] = pd.to_datetime(data['time'])\n",
    "data['year'] = data['time'].dt.year\n",
    "# group data by year and model\n",
    "data_grouped = data.groupby(['year', 'model']).mean()\n",
    "data_grouped.reset_index(inplace=True)\n",
    "\n",
    "model_list = ['ACCESS-CM2', 'ACCESS-ESM1-5'] # list of models to plot\n",
    "data_filtered = data_grouped[data_grouped['model'].isin(model_list)]\n",
    "data_filtered.head()\n"
   ]
  },
  {
   "cell_type": "code",
   "execution_count": 19,
   "metadata": {},
   "outputs": [
    {
     "data": {
      "application/vnd.vegalite.v4+json": {
       "$schema": "https://vega.github.io/schema/vega-lite/v4.17.0.json",
       "config": {
        "view": {
         "continuousHeight": 300,
         "continuousWidth": 400
        }
       },
       "data": {
        "url": "http://localhost:24444/87d72ef0952fbb09c64bc470aa29cd37.json"
       },
       "facet": {
        "row": {
         "field": "model",
         "type": "nominal"
        }
       },
       "spec": {
        "encoding": {
         "color": {
          "field": "model",
          "type": "nominal"
         },
         "x": {
          "field": "year",
          "type": "quantitative"
         },
         "y": {
          "field": "rain (mm/day)",
          "type": "quantitative"
         }
        },
        "height": 200,
        "mark": "line",
        "width": 400
       }
      },
      "text/plain": [
       "<VegaLite 4 object>\n",
       "\n",
       "If you see this message, it means the renderer has not been properly enabled\n",
       "for the frontend that you are using. For more information, see\n",
       "https://altair-viz.github.io/user_guide/troubleshooting.html\n"
      ]
     },
     "execution_count": 19,
     "metadata": {},
     "output_type": "execute_result"
    }
   ],
   "source": [
    "# plot the data and facet by model\n",
    "import altair as alt\n",
    "alt.data_transformers.enable('data_server')\n",
    "alt.renderers.enable('mimetype')\n",
    "alt.data_transformers.disable_max_rows()\n",
    "alt.Chart(data_filtered).mark_line().encode(\n",
    "    x='year',\n",
    "    y='rain (mm/day):Q',\n",
    "    color='model:N'\n",
    ").properties(\n",
    "    width=400,\n",
    "    height=200\n",
    ").facet(\n",
    "    row='model:N'\n",
    ").interactive()\n"
   ]
  },
  {
   "cell_type": "markdown",
   "metadata": {},
   "source": [
    "#### Conclusion and Discussion"
   ]
  },
  {
   "cell_type": "markdown",
   "metadata": {},
   "source": [
    "| Team Member | Operating System | RAM | Processor | Is SSD | Time taken for Each Type of Memory Reduction |\n",
    "|:-----------:|:----------------:|:---:|:---------:|:------:|:----------:|\n",
    "| Sam   |    macOS Catalina      |16GB | 2.8 GHz 4 Core i7   |  Yes   | 3mins, 2.5mins, 1.9mins     |\n",
    "| Member 2    |                  |     |           |        |            |\n",
    "| Member 3    |                  |     |           |        |            |\n",
    "| Member 4    |                  |     |           |        |            |\n",
    "\n",
    "I attempted to show some plots but unless I loaded only parts of the dataset, they would not execute. In terms of memory space, changing the data types was the best at reducing the size of the object. This is due to the changing of the numerical data from float64 to float32, which is effectively half the space. The trade-off for doing this is that now our data is less precise than before."
   ]
  },
  {
   "cell_type": "markdown",
   "metadata": {},
   "source": [
    "## Transform data from Python to R"
   ]
  },
  {
   "cell_type": "code",
   "execution_count": 15,
   "metadata": {},
   "outputs": [],
   "source": [
    "import pyarrow.dataset as ds\n",
    "import pyarrow as pa\n",
    "import pyarrow \n",
    "from pyarrow import csv\n",
    "import rpy2_arrow.pyarrow_rarrow as pyra\n",
    "%load_ext rpy2.ipython"
   ]
  },
  {
   "cell_type": "code",
   "execution_count": 16,
   "metadata": {},
   "outputs": [],
   "source": [
    "%%R\n",
    "suppressMessages(library(dplyr, warn.conflicts = FALSE))\n",
    "suppressMessages(library(arrow, warn.conflicts = FALSE))\n",
    "suppressMessages(library(ggplot2, warn.conflicts = FALSE))"
   ]
  },
  {
   "cell_type": "code",
   "execution_count": 17,
   "metadata": {},
   "outputs": [
    {
     "name": "stdout",
     "output_type": "stream",
     "text": [
      "CPU times: user 40.3 s, sys: 9.3 s, total: 49.6 s\n",
      "Wall time: 54.3 s\n"
     ]
    }
   ],
   "source": [
    "%%time\n",
    "# read in the data\n",
    "df = pd.read_csv(\"../data/rainfall/combined/rainfall_data.csv\")"
   ]
  },
  {
   "cell_type": "markdown",
   "metadata": {},
   "source": [
    "### Feather"
   ]
  },
  {
   "cell_type": "code",
   "execution_count": 18,
   "metadata": {},
   "outputs": [
    {
     "name": "stdout",
     "output_type": "stream",
     "text": [
      "CPU times: user 7.3 s, sys: 5.34 s, total: 12.6 s\n",
      "Wall time: 8.37 s\n"
     ]
    }
   ],
   "source": [
    "%%time\n",
    "# save the data to feather\n",
    "df.to_feather(data_path +\"combined/rainfall_data.feather\")"
   ]
  },
  {
   "cell_type": "code",
   "execution_count": 19,
   "metadata": {},
   "outputs": [
    {
     "name": "stdout",
     "output_type": "stream",
     "text": [
      "CPU times: user 7.6 ms, sys: 12.4 ms, total: 20 ms\n",
      "Wall time: 163 ms\n"
     ]
    }
   ],
   "source": [
    "%%time\n",
    "%%R\n",
    "# open the feather file from R\n",
    "ds <- open_dataset(\"../data/rainfall/combined/rainfall_data.feather\", format=\"feather\")"
   ]
  },
  {
   "cell_type": "code",
   "execution_count": 20,
   "metadata": {},
   "outputs": [
    {
     "name": "stdout",
     "output_type": "stream",
     "text": [
      "# A tibble: 62,467,843 × 7\n",
      "   time                lat_min lat_max lon_min lon_max `rain (mm/day)` model    \n",
      "   <chr>                 <dbl>   <dbl>   <dbl>   <dbl>           <dbl> <chr>    \n",
      " 1 1889-01-01 12:00:00   -35.4   -33.6    142.    143.        4.24e-13 MPI-ESM-…\n",
      " 2 1889-01-02 12:00:00   -35.4   -33.6    142.    143.        4.22e-13 MPI-ESM-…\n",
      " 3 1889-01-03 12:00:00   -35.4   -33.6    142.    143.        4.50e-13 MPI-ESM-…\n",
      " 4 1889-01-04 12:00:00   -35.4   -33.6    142.    143.        4.25e-13 MPI-ESM-…\n",
      " 5 1889-01-05 12:00:00   -35.4   -33.6    142.    143.        4.27e-13 MPI-ESM-…\n",
      " 6 1889-01-06 12:00:00   -35.4   -33.6    142.    143.        4.20e-13 MPI-ESM-…\n",
      " 7 1889-01-07 12:00:00   -35.4   -33.6    142.    143.        4.19e-13 MPI-ESM-…\n",
      " 8 1889-01-08 12:00:00   -35.4   -33.6    142.    143.        4.56e-13 MPI-ESM-…\n",
      " 9 1889-01-09 12:00:00   -35.4   -33.6    142.    143.        2.53e+ 0 MPI-ESM-…\n",
      "10 1889-01-10 12:00:00   -35.4   -33.6    142.    143.        4.12e- 2 MPI-ESM-…\n",
      "# … with 62,467,833 more rows\n",
      "CPU times: user 9.1 s, sys: 4.63 s, total: 13.7 s\n",
      "Wall time: 12.6 s\n"
     ]
    }
   ],
   "source": [
    "%%time\n",
    "%%R\n",
    "# print the data in R\n",
    "print(ds %>% collect)"
   ]
  },
  {
   "cell_type": "markdown",
   "metadata": {},
   "source": [
    "### Parquet"
   ]
  },
  {
   "cell_type": "code",
   "execution_count": 21,
   "metadata": {},
   "outputs": [
    {
     "name": "stdout",
     "output_type": "stream",
     "text": [
      "CPU times: user 16.5 s, sys: 5.16 s, total: 21.6 s\n",
      "Wall time: 22.5 s\n"
     ]
    }
   ],
   "source": [
    "%%time\n",
    "# save to parquet file\n",
    "df.to_parquet(\"../data/rainfall/combined/rainfall_data.parquet\")"
   ]
  },
  {
   "cell_type": "code",
   "execution_count": 22,
   "metadata": {},
   "outputs": [
    {
     "name": "stdout",
     "output_type": "stream",
     "text": [
      "CPU times: user 7.02 ms, sys: 9.69 ms, total: 16.7 ms\n",
      "Wall time: 18.4 ms\n"
     ]
    }
   ],
   "source": [
    "%%time\n",
    "%%R\n",
    "ds_parquet <- open_dataset(\"../data/rainfall/combined/rainfall_data.parquet\", format=\"parquet\")"
   ]
  },
  {
   "cell_type": "code",
   "execution_count": 23,
   "metadata": {},
   "outputs": [
    {
     "name": "stdout",
     "output_type": "stream",
     "text": [
      "# A tibble: 62,467,843 × 7\n",
      "   time                lat_min lat_max lon_min lon_max `rain (mm/day)` model    \n",
      "   <chr>                 <dbl>   <dbl>   <dbl>   <dbl>           <dbl> <chr>    \n",
      " 1 1889-01-01 12:00:00   -35.4   -33.6    142.    143.        4.24e-13 MPI-ESM-…\n",
      " 2 1889-01-02 12:00:00   -35.4   -33.6    142.    143.        4.22e-13 MPI-ESM-…\n",
      " 3 1889-01-03 12:00:00   -35.4   -33.6    142.    143.        4.50e-13 MPI-ESM-…\n",
      " 4 1889-01-04 12:00:00   -35.4   -33.6    142.    143.        4.25e-13 MPI-ESM-…\n",
      " 5 1889-01-05 12:00:00   -35.4   -33.6    142.    143.        4.27e-13 MPI-ESM-…\n",
      " 6 1889-01-06 12:00:00   -35.4   -33.6    142.    143.        4.20e-13 MPI-ESM-…\n",
      " 7 1889-01-07 12:00:00   -35.4   -33.6    142.    143.        4.19e-13 MPI-ESM-…\n",
      " 8 1889-01-08 12:00:00   -35.4   -33.6    142.    143.        4.56e-13 MPI-ESM-…\n",
      " 9 1889-01-09 12:00:00   -35.4   -33.6    142.    143.        2.53e+ 0 MPI-ESM-…\n",
      "10 1889-01-10 12:00:00   -35.4   -33.6    142.    143.        4.12e- 2 MPI-ESM-…\n",
      "# … with 62,467,833 more rows\n",
      "CPU times: user 11.9 s, sys: 6.02 s, total: 17.9 s\n",
      "Wall time: 16.8 s\n"
     ]
    }
   ],
   "source": [
    "%%time\n",
    "%%R\n",
    "print(ds_parquet %>% collect)"
   ]
  },
  {
   "cell_type": "markdown",
   "metadata": {},
   "source": [
    "### Arrow exchange"
   ]
  },
  {
   "cell_type": "code",
   "execution_count": 24,
   "metadata": {},
   "outputs": [
    {
     "name": "stdout",
     "output_type": "stream",
     "text": [
      "CPU times: user 33.7 s, sys: 3.17 s, total: 36.8 s\n",
      "Wall time: 38.6 s\n"
     ]
    }
   ],
   "source": [
    "%%time\n",
    "dataset = ds.dataset(\"../data/rainfall/combined/rainfall_data.csv\", format=\"csv\")\n",
    "table = dataset.to_table()\n",
    "r_table = pyra.converter.py2rpy(table)"
   ]
  },
  {
   "cell_type": "code",
   "execution_count": 25,
   "metadata": {},
   "outputs": [
    {
     "name": "stdout",
     "output_type": "stream",
     "text": [
      "# A tibble: 62,467,843 × 7\n",
      "   time                lat_min lat_max lon_min lon_max `rain (mm/day)` model    \n",
      "   <dttm>                <dbl>   <dbl>   <dbl>   <dbl>           <dbl> <chr>    \n",
      " 1 1889-01-01 04:00:00   -35.4   -33.6    142.    143.        4.24e-13 MPI-ESM-…\n",
      " 2 1889-01-02 04:00:00   -35.4   -33.6    142.    143.        4.22e-13 MPI-ESM-…\n",
      " 3 1889-01-03 04:00:00   -35.4   -33.6    142.    143.        4.50e-13 MPI-ESM-…\n",
      " 4 1889-01-04 04:00:00   -35.4   -33.6    142.    143.        4.25e-13 MPI-ESM-…\n",
      " 5 1889-01-05 04:00:00   -35.4   -33.6    142.    143.        4.27e-13 MPI-ESM-…\n",
      " 6 1889-01-06 04:00:00   -35.4   -33.6    142.    143.        4.20e-13 MPI-ESM-…\n",
      " 7 1889-01-07 04:00:00   -35.4   -33.6    142.    143.        4.19e-13 MPI-ESM-…\n",
      " 8 1889-01-08 04:00:00   -35.4   -33.6    142.    143.        4.56e-13 MPI-ESM-…\n",
      " 9 1889-01-09 04:00:00   -35.4   -33.6    142.    143.        2.53e+ 0 MPI-ESM-…\n",
      "10 1889-01-10 04:00:00   -35.4   -33.6    142.    143.        4.12e- 2 MPI-ESM-…\n",
      "# … with 62,467,833 more rows\n",
      "Time difference of 9.298325e-05 secs\n",
      "CPU times: user 2.88 s, sys: 2.13 s, total: 5.01 s\n",
      "Wall time: 4.24 s\n"
     ]
    }
   ],
   "source": [
    "%%time\n",
    "%%R -i r_table\n",
    "start_time <- Sys.time()\n",
    "suppressMessages(library(dplyr))\n",
    "result <- r_table \n",
    "end_time <- Sys.time()\n",
    "print(result %>% collect())\n",
    "print(end_time - start_time)"
   ]
  },
  {
   "cell_type": "markdown",
   "metadata": {},
   "source": [
    "We tried 4 different approaches, the reason that we chose feather transfer over others is that:\n",
    "    \n",
    "- Arrow exchange: It is slower than feather file. It used around 40 seconds on my laptop(M1 Mac 16G RAM).\n",
    "- Pandas exchange: This approach is the most slow among all methods, I waited about 40 minutes and I gave up because it hadn't stopped running by that time.\n",
    "- Parquet file: Parquet files are mainly suitable for long term storage whereas feather files are used in short term storage such as dataframe transfers. Besides, in terms of time, transfer pandas dataframe to parquet took much longer time than to feather file. In terms of storage memory, Parquet files is much smaller than Feather files which can save some memory space for long term storage."
   ]
  },
  {
   "cell_type": "markdown",
   "metadata": {},
   "source": [
    "## Perform EDA in R"
   ]
  },
  {
   "cell_type": "code",
   "execution_count": 26,
   "metadata": {},
   "outputs": [
    {
     "name": "stdout",
     "output_type": "stream",
     "text": [
      "# A tibble: 6 × 3\n",
      "  time           rain model     \n",
      "  <date>        <dbl> <chr>     \n",
      "1 1889-01-01 3.29e-13 ACCESS-CM2\n",
      "2 1889-01-02 0        ACCESS-CM2\n",
      "3 1889-01-03 0        ACCESS-CM2\n",
      "4 1889-01-04 0        ACCESS-CM2\n",
      "5 1889-01-05 1.05e- 2 ACCESS-CM2\n",
      "6 1889-01-06 3.29e- 2 ACCESS-CM2\n"
     ]
    }
   ],
   "source": [
    "%%R\n",
    "model_list <- c(\"ACCESS-CM2\", \"ACCESS-ESM1-5\")\n",
    "\n",
    "df_filtered <- ds |> filter (model %in% model_list) |>\n",
    "                rename(rain='rain (mm/day)')|> \n",
    "                select(time, rain, model) |> collect()\n",
    "# convert time to datetime\n",
    "df_filtered$time <- as.Date(df_filtered$time)\n",
    "\n",
    "head(df_filtered)"
   ]
  },
  {
   "cell_type": "code",
   "execution_count": 27,
   "metadata": {},
   "outputs": [
    {
     "name": "stdout",
     "output_type": "stream",
     "text": [
      "`summarise()` has grouped output by 'year'. You can override using the\n",
      "`.groups` argument.\n",
      "# A tibble: 6 × 3\n",
      "# Groups:   year [3]\n",
      "   year model          rain\n",
      "  <dbl> <chr>         <dbl>\n",
      "1  1889 ACCESS-CM2     1.40\n",
      "2  1889 ACCESS-ESM1-5  1.86\n",
      "3  1890 ACCESS-CM2     1.49\n",
      "4  1890 ACCESS-ESM1-5  1.67\n",
      "5  1891 ACCESS-CM2     2.20\n",
      "6  1891 ACCESS-ESM1-5  3.67\n"
     ]
    }
   ],
   "source": [
    "%%R\n",
    "df_filtered$year <- as.numeric(format(df_filtered$time, \"%Y\"))\n",
    "# head(df_filtered)\n",
    "df_grouped <- df_filtered |> group_by(year, model) |> summarise(rain=mean(rain))\n",
    "head(df_grouped)"
   ]
  },
  {
   "cell_type": "code",
   "execution_count": 28,
   "metadata": {},
   "outputs": [
    {
     "data": {
      "image/png": "[encoded data removed]"
     },
     "metadata": {},
     "output_type": "display_data"
    }
   ],
   "source": [
    "%%R\n",
    "# plot df_grouped, faceted by model\n",
    "ggplot(df_grouped, aes(x=year, y=rain, color=model)) +\n",
    "    geom_line() +\n",
    "    facet_wrap(~model, ncol=1) +\n",
    "    theme_bw()"
   ]
  }
 ],
 "metadata": {
  "interpreter": {
   "hash": "589735b5a093430a2415636dc4387f2c8f46d75b70704ead2cacc0d075a603d3"
  },
  "kernelspec": {
   "display_name": "Python [conda env:525_2022]",
   "language": "python",
   "name": "python3"
  },
  "language_info": {
   "codemirror_mode": {
    "name": "ipython",
    "version": 3
   },
   "file_extension": ".py",
   "mimetype": "text/x-python",
   "name": "python",
   "nbconvert_exporter": "python",
   "pygments_lexer": "ipython3",
   "version": "3.8.6"
  }
 },
 "nbformat": 4,
 "nbformat_minor": 4
}
